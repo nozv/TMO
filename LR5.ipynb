{
 "cells": [
  {
   "cell_type": "markdown",
   "metadata": {
    "id": "5_lE50sHgm13"
   },
   "source": [
    "\n",
    "# **Лабораторная работа №5**"
   ]
  },
  {
   "cell_type": "markdown",
   "metadata": {
    "id": "8Ht5qi-pgoI8"
   },
   "source": [
    "## Загрузка данных\n",
    "\n",
    "---"
   ]
  },
  {
   "cell_type": "markdown",
   "metadata": {
    "id": "9iQxccxdgp9m"
   },
   "source": [
    "В качестве набора данных будем использовать [набор данных о хоралах Баха](https://rpubs.com/bsnacks000/107391)\n",
    "\n",
    "Набор данных содержит следующие колонки:\n",
    "+ chorale_ID - номер хорала\n",
    "+ event_number - id события\n",
    "+ pitch_1 - pitch_12 - наличие в аккорде каждой из 12 нот\n",
    "+ bass - нижняя нота аккорда\n",
    "+ meter - важность аккорда\n",
    "+ chord_label - название аккорда"
   ]
  },
  {
   "cell_type": "code",
   "execution_count": 98,
   "metadata": {
    "colab": {
     "base_uri": "https://localhost:8080/"
    },
    "executionInfo": {
     "elapsed": 9181,
     "status": "ok",
     "timestamp": 1654696970762,
     "user": {
      "displayName": "Valentina N",
      "userId": "15695733022300975206"
     },
     "user_tz": -180
    },
    "id": "lhOER4yuoS1b",
    "outputId": "c9b2f5ec-c4af-4e7f-ab60-8e3d96cb0938"
   },
   "outputs": [
    {
     "name": "stdout",
     "output_type": "stream",
     "text": [
      "Looking in indexes: https://pypi.org/simple, https://us-python.pkg.dev/colab-wheels/public/simple/\n",
      "Requirement already satisfied: heamy in /usr/local/lib/python3.7/dist-packages (0.0.7)\n",
      "Requirement already satisfied: scikit-learn>=0.17.0 in /usr/local/lib/python3.7/dist-packages (from heamy) (1.0.2)\n",
      "Requirement already satisfied: numpy>=1.7.0 in /usr/local/lib/python3.7/dist-packages (from heamy) (1.21.6)\n",
      "Requirement already satisfied: six>=1.10.0 in /usr/local/lib/python3.7/dist-packages (from heamy) (1.15.0)\n",
      "Requirement already satisfied: scipy>=0.16.0 in /usr/local/lib/python3.7/dist-packages (from heamy) (1.4.1)\n",
      "Requirement already satisfied: pandas>=0.17.0 in /usr/local/lib/python3.7/dist-packages (from heamy) (1.3.5)\n",
      "Requirement already satisfied: pytz>=2017.3 in /usr/local/lib/python3.7/dist-packages (from pandas>=0.17.0->heamy) (2022.1)\n",
      "Requirement already satisfied: python-dateutil>=2.7.3 in /usr/local/lib/python3.7/dist-packages (from pandas>=0.17.0->heamy) (2.8.2)\n",
      "Requirement already satisfied: threadpoolctl>=2.0.0 in /usr/local/lib/python3.7/dist-packages (from scikit-learn>=0.17.0->heamy) (3.1.0)\n",
      "Requirement already satisfied: joblib>=0.11 in /usr/local/lib/python3.7/dist-packages (from scikit-learn>=0.17.0->heamy) (1.1.0)\n",
      "Drive already mounted at /content/drive; to attempt to forcibly remount, call drive.mount(\"/content/drive\", force_remount=True).\n"
     ]
    }
   ],
   "source": [
    "!pip install -U heamy\n",
    "\n",
    "from google.colab import drive\n",
    "drive.mount('/content/drive')"
   ]
  },
  {
   "cell_type": "code",
   "execution_count": 99,
   "metadata": {
    "executionInfo": {
     "elapsed": 17,
     "status": "ok",
     "timestamp": 1654696970763,
     "user": {
      "displayName": "Valentina N",
      "userId": "15695733022300975206"
     },
     "user_tz": -180
    },
    "id": "1MOzt46mgkkW"
   },
   "outputs": [],
   "source": [
    "# Импорт библиотек\n",
    "import numpy as np\n",
    "import pandas as pd\n",
    "import seaborn as sns\n",
    "import matplotlib.pyplot as plt\n",
    "%matplotlib inline \n",
    "sns.set(style=\"ticks\")\n",
    "\n",
    "from typing import Dict\n",
    "from sklearn.preprocessing import LabelEncoder\n",
    "from sklearn.model_selection import train_test_split\n",
    "from sklearn.ensemble import BaggingClassifier, AdaBoostClassifier, RandomForestClassifier\n",
    "from sklearn.metrics import accuracy_score\n",
    "from sklearn.metrics import confusion_matrix, plot_confusion_matrix\n",
    "from sklearn.tree import DecisionTreeClassifier\n",
    "from sklearn.linear_model import LogisticRegression\n",
    "\n",
    "from heamy.estimator import Classifier\n",
    "from heamy.pipeline import ModelsPipeline\n",
    "from heamy.dataset import Dataset\n",
    "\n",
    "# Загрузка датасета\n",
    "dataset = pd.read_csv('/content/drive/MyDrive/Colab Notebooks/datasets/bach_choral_set_dataset.csv')"
   ]
  },
  {
   "cell_type": "code",
   "execution_count": 100,
   "metadata": {
    "colab": {
     "base_uri": "https://localhost:8080/",
     "height": 206
    },
    "executionInfo": {
     "elapsed": 16,
     "status": "ok",
     "timestamp": 1654696970764,
     "user": {
      "displayName": "Valentina N",
      "userId": "15695733022300975206"
     },
     "user_tz": -180
    },
    "id": "cywpjS84g5Rl",
    "outputId": "b4f58443-f936-4b4a-a8a3-6c59942aa2c0"
   },
   "outputs": [
    {
     "data": {
      "text/html": [
       "\n",
       "  <div id=\"df-8ca18eac-d3ed-4f25-90c0-2decb227ca7a\">\n",
       "    <div class=\"colab-df-container\">\n",
       "      <div>\n",
       "<style scoped>\n",
       "    .dataframe tbody tr th:only-of-type {\n",
       "        vertical-align: middle;\n",
       "    }\n",
       "\n",
       "    .dataframe tbody tr th {\n",
       "        vertical-align: top;\n",
       "    }\n",
       "\n",
       "    .dataframe thead th {\n",
       "        text-align: right;\n",
       "    }\n",
       "</style>\n",
       "<table border=\"1\" class=\"dataframe\">\n",
       "  <thead>\n",
       "    <tr style=\"text-align: right;\">\n",
       "      <th></th>\n",
       "      <th>choral_ID</th>\n",
       "      <th>event_number</th>\n",
       "      <th>pitch_1</th>\n",
       "      <th>pitch_2</th>\n",
       "      <th>pitch_3</th>\n",
       "      <th>pitch_4</th>\n",
       "      <th>pitch_5</th>\n",
       "      <th>pitch_6</th>\n",
       "      <th>pitch_7</th>\n",
       "      <th>pitch_8</th>\n",
       "      <th>pitch_9</th>\n",
       "      <th>pitch_10</th>\n",
       "      <th>pitch_11</th>\n",
       "      <th>pitch_12</th>\n",
       "      <th>bass</th>\n",
       "      <th>meter</th>\n",
       "      <th>chord_label</th>\n",
       "    </tr>\n",
       "  </thead>\n",
       "  <tbody>\n",
       "    <tr>\n",
       "      <th>0</th>\n",
       "      <td>000106b_</td>\n",
       "      <td>1</td>\n",
       "      <td>YES</td>\n",
       "      <td>NO</td>\n",
       "      <td>NO</td>\n",
       "      <td>NO</td>\n",
       "      <td>NO</td>\n",
       "      <td>YES</td>\n",
       "      <td>NO</td>\n",
       "      <td>NO</td>\n",
       "      <td>NO</td>\n",
       "      <td>YES</td>\n",
       "      <td>NO</td>\n",
       "      <td>NO</td>\n",
       "      <td>F</td>\n",
       "      <td>3</td>\n",
       "      <td>F_M</td>\n",
       "    </tr>\n",
       "    <tr>\n",
       "      <th>1</th>\n",
       "      <td>000106b_</td>\n",
       "      <td>2</td>\n",
       "      <td>YES</td>\n",
       "      <td>NO</td>\n",
       "      <td>NO</td>\n",
       "      <td>NO</td>\n",
       "      <td>YES</td>\n",
       "      <td>NO</td>\n",
       "      <td>NO</td>\n",
       "      <td>YES</td>\n",
       "      <td>NO</td>\n",
       "      <td>NO</td>\n",
       "      <td>NO</td>\n",
       "      <td>NO</td>\n",
       "      <td>E</td>\n",
       "      <td>5</td>\n",
       "      <td>C_M</td>\n",
       "    </tr>\n",
       "    <tr>\n",
       "      <th>2</th>\n",
       "      <td>000106b_</td>\n",
       "      <td>3</td>\n",
       "      <td>YES</td>\n",
       "      <td>NO</td>\n",
       "      <td>NO</td>\n",
       "      <td>NO</td>\n",
       "      <td>YES</td>\n",
       "      <td>NO</td>\n",
       "      <td>NO</td>\n",
       "      <td>YES</td>\n",
       "      <td>NO</td>\n",
       "      <td>NO</td>\n",
       "      <td>NO</td>\n",
       "      <td>NO</td>\n",
       "      <td>E</td>\n",
       "      <td>2</td>\n",
       "      <td>C_M</td>\n",
       "    </tr>\n",
       "    <tr>\n",
       "      <th>3</th>\n",
       "      <td>000106b_</td>\n",
       "      <td>4</td>\n",
       "      <td>YES</td>\n",
       "      <td>NO</td>\n",
       "      <td>NO</td>\n",
       "      <td>NO</td>\n",
       "      <td>NO</td>\n",
       "      <td>YES</td>\n",
       "      <td>NO</td>\n",
       "      <td>NO</td>\n",
       "      <td>NO</td>\n",
       "      <td>YES</td>\n",
       "      <td>NO</td>\n",
       "      <td>NO</td>\n",
       "      <td>F</td>\n",
       "      <td>3</td>\n",
       "      <td>F_M</td>\n",
       "    </tr>\n",
       "    <tr>\n",
       "      <th>4</th>\n",
       "      <td>000106b_</td>\n",
       "      <td>5</td>\n",
       "      <td>YES</td>\n",
       "      <td>NO</td>\n",
       "      <td>NO</td>\n",
       "      <td>NO</td>\n",
       "      <td>NO</td>\n",
       "      <td>YES</td>\n",
       "      <td>NO</td>\n",
       "      <td>NO</td>\n",
       "      <td>NO</td>\n",
       "      <td>YES</td>\n",
       "      <td>NO</td>\n",
       "      <td>NO</td>\n",
       "      <td>F</td>\n",
       "      <td>2</td>\n",
       "      <td>F_M</td>\n",
       "    </tr>\n",
       "  </tbody>\n",
       "</table>\n",
       "</div>\n",
       "      <button class=\"colab-df-convert\" onclick=\"convertToInteractive('df-8ca18eac-d3ed-4f25-90c0-2decb227ca7a')\"\n",
       "              title=\"Convert this dataframe to an interactive table.\"\n",
       "              style=\"display:none;\">\n",
       "        \n",
       "  <svg xmlns=\"http://www.w3.org/2000/svg\" height=\"24px\"viewBox=\"0 0 24 24\"\n",
       "       width=\"24px\">\n",
       "    <path d=\"M0 0h24v24H0V0z\" fill=\"none\"/>\n",
       "    <path d=\"M18.56 5.44l.94 2.06.94-2.06 2.06-.94-2.06-.94-.94-2.06-.94 2.06-2.06.94zm-11 1L8.5 8.5l.94-2.06 2.06-.94-2.06-.94L8.5 2.5l-.94 2.06-2.06.94zm10 10l.94 2.06.94-2.06 2.06-.94-2.06-.94-.94-2.06-.94 2.06-2.06.94z\"/><path d=\"M17.41 7.96l-1.37-1.37c-.4-.4-.92-.59-1.43-.59-.52 0-1.04.2-1.43.59L10.3 9.45l-7.72 7.72c-.78.78-.78 2.05 0 2.83L4 21.41c.39.39.9.59 1.41.59.51 0 1.02-.2 1.41-.59l7.78-7.78 2.81-2.81c.8-.78.8-2.07 0-2.86zM5.41 20L4 18.59l7.72-7.72 1.47 1.35L5.41 20z\"/>\n",
       "  </svg>\n",
       "      </button>\n",
       "      \n",
       "  <style>\n",
       "    .colab-df-container {\n",
       "      display:flex;\n",
       "      flex-wrap:wrap;\n",
       "      gap: 12px;\n",
       "    }\n",
       "\n",
       "    .colab-df-convert {\n",
       "      background-color: #E8F0FE;\n",
       "      border: none;\n",
       "      border-radius: 50%;\n",
       "      cursor: pointer;\n",
       "      display: none;\n",
       "      fill: #1967D2;\n",
       "      height: 32px;\n",
       "      padding: 0 0 0 0;\n",
       "      width: 32px;\n",
       "    }\n",
       "\n",
       "    .colab-df-convert:hover {\n",
       "      background-color: #E2EBFA;\n",
       "      box-shadow: 0px 1px 2px rgba(60, 64, 67, 0.3), 0px 1px 3px 1px rgba(60, 64, 67, 0.15);\n",
       "      fill: #174EA6;\n",
       "    }\n",
       "\n",
       "    [theme=dark] .colab-df-convert {\n",
       "      background-color: #3B4455;\n",
       "      fill: #D2E3FC;\n",
       "    }\n",
       "\n",
       "    [theme=dark] .colab-df-convert:hover {\n",
       "      background-color: #434B5C;\n",
       "      box-shadow: 0px 1px 3px 1px rgba(0, 0, 0, 0.15);\n",
       "      filter: drop-shadow(0px 1px 2px rgba(0, 0, 0, 0.3));\n",
       "      fill: #FFFFFF;\n",
       "    }\n",
       "  </style>\n",
       "\n",
       "      <script>\n",
       "        const buttonEl =\n",
       "          document.querySelector('#df-8ca18eac-d3ed-4f25-90c0-2decb227ca7a button.colab-df-convert');\n",
       "        buttonEl.style.display =\n",
       "          google.colab.kernel.accessAllowed ? 'block' : 'none';\n",
       "\n",
       "        async function convertToInteractive(key) {\n",
       "          const element = document.querySelector('#df-8ca18eac-d3ed-4f25-90c0-2decb227ca7a');\n",
       "          const dataTable =\n",
       "            await google.colab.kernel.invokeFunction('convertToInteractive',\n",
       "                                                     [key], {});\n",
       "          if (!dataTable) return;\n",
       "\n",
       "          const docLinkHtml = 'Like what you see? Visit the ' +\n",
       "            '<a target=\"_blank\" href=https://colab.research.google.com/notebooks/data_table.ipynb>data table notebook</a>'\n",
       "            + ' to learn more about interactive tables.';\n",
       "          element.innerHTML = '';\n",
       "          dataTable['output_type'] = 'display_data';\n",
       "          await google.colab.output.renderOutput(dataTable, element);\n",
       "          const docLink = document.createElement('div');\n",
       "          docLink.innerHTML = docLinkHtml;\n",
       "          element.appendChild(docLink);\n",
       "        }\n",
       "      </script>\n",
       "    </div>\n",
       "  </div>\n",
       "  "
      ],
      "text/plain": [
       "  choral_ID  event_number pitch_1 pitch_2 pitch_3 pitch_4 pitch_5 pitch_6  \\\n",
       "0  000106b_             1     YES      NO      NO      NO      NO     YES   \n",
       "1  000106b_             2     YES      NO      NO      NO     YES      NO   \n",
       "2  000106b_             3     YES      NO      NO      NO     YES      NO   \n",
       "3  000106b_             4     YES      NO      NO      NO      NO     YES   \n",
       "4  000106b_             5     YES      NO      NO      NO      NO     YES   \n",
       "\n",
       "  pitch_7 pitch_8 pitch_9 pitch_10 pitch_11 pitch_12 bass  meter chord_label  \n",
       "0      NO      NO      NO      YES       NO       NO    F      3         F_M  \n",
       "1      NO     YES      NO       NO       NO       NO    E      5         C_M  \n",
       "2      NO     YES      NO       NO       NO       NO    E      2         C_M  \n",
       "3      NO      NO      NO      YES       NO       NO    F      3         F_M  \n",
       "4      NO      NO      NO      YES       NO       NO    F      2         F_M  "
      ]
     },
     "execution_count": 100,
     "metadata": {},
     "output_type": "execute_result"
    }
   ],
   "source": [
    "# Первые 5 строк датасета\n",
    "dataset.head()"
   ]
  },
  {
   "cell_type": "code",
   "execution_count": 101,
   "metadata": {
    "colab": {
     "base_uri": "https://localhost:8080/"
    },
    "executionInfo": {
     "elapsed": 2492,
     "status": "ok",
     "timestamp": 1654696973242,
     "user": {
      "displayName": "Valentina N",
      "userId": "15695733022300975206"
     },
     "user_tz": -180
    },
    "id": "j0VUy0Wxg7Kf",
    "outputId": "57dba9d6-691d-4c21-f502-c35f63db160c"
   },
   "outputs": [
    {
     "data": {
      "text/plain": [
       "(992, 17)"
      ]
     },
     "execution_count": 101,
     "metadata": {},
     "output_type": "execute_result"
    }
   ],
   "source": [
    "# Будем использовать только два наиболее часто встречающихся класса\n",
    "freqs = dataset['chord_label'].value_counts(normalize=True)*100\n",
    "sfreqs = sorted(freqs)\n",
    "\n",
    "ind = []\n",
    "for i in range(0, dataset.shape[0]):\n",
    "  if (freqs[dataset.iloc[i]['chord_label']]!=sfreqs[-1]) and (freqs[dataset.iloc[i]['chord_label']]!=sfreqs[-2]):\n",
    "    ind.append(i)\n",
    "dataset.drop(axis=0, index=ind, inplace = True)\n",
    "dataset.shape"
   ]
  },
  {
   "cell_type": "code",
   "execution_count": 102,
   "metadata": {
    "executionInfo": {
     "elapsed": 24,
     "status": "ok",
     "timestamp": 1654696973244,
     "user": {
      "displayName": "Valentina N",
      "userId": "15695733022300975206"
     },
     "user_tz": -180
    },
    "id": "XlQdrxDtg-aV"
   },
   "outputs": [],
   "source": [
    "# Кодирование категориальных признаков\n",
    "le = LabelEncoder()\n",
    "dataset['choral_ID'] = le.fit_transform(dataset['choral_ID'])\n",
    "for i in range(1,13):\n",
    "  col = 'pitch_'+str(i)\n",
    "  dataset[col] = le.fit_transform(dataset[col])\n",
    "dataset['bass'] = le.fit_transform(dataset['bass'])\n",
    "dataset['chord_label'] = le.fit_transform(dataset['chord_label'])"
   ]
  },
  {
   "cell_type": "code",
   "execution_count": 103,
   "metadata": {
    "executionInfo": {
     "elapsed": 22,
     "status": "ok",
     "timestamp": 1654696973244,
     "user": {
      "displayName": "Valentina N",
      "userId": "15695733022300975206"
     },
     "user_tz": -180
    },
    "id": "LYgJpg-_hAey"
   },
   "outputs": [],
   "source": [
    "# Разделение данных на целевые и нецелвые колонки\n",
    "data = pd.DataFrame(dataset[dataset.columns.difference(['chord_label'])])\n",
    "target = dataset['chord_label'].copy()"
   ]
  },
  {
   "cell_type": "markdown",
   "metadata": {
    "id": "FvYJo_IrhDXJ"
   },
   "source": [
    "## Разделение на обучающую и тестовую выборки\n",
    "\n",
    "\n",
    "---"
   ]
  },
  {
   "cell_type": "code",
   "execution_count": 104,
   "metadata": {
    "executionInfo": {
     "elapsed": 22,
     "status": "ok",
     "timestamp": 1654696973245,
     "user": {
      "displayName": "Valentina N",
      "userId": "15695733022300975206"
     },
     "user_tz": -180
    },
    "id": "ddUbtESXhBjQ"
   },
   "outputs": [],
   "source": [
    "# Разделение на обучающую и тестовую выборки\n",
    "xtrain, xtest, ytrain, ytest = train_test_split(\n",
    "    data, target, test_size=0.3, random_state=1)\n",
    "\n",
    "train_acc = dict()\n",
    "test_acc = dict()\n",
    "gen_acc = dict()"
   ]
  },
  {
   "cell_type": "code",
   "execution_count": 105,
   "metadata": {
    "executionInfo": {
     "elapsed": 21,
     "status": "ok",
     "timestamp": 1654696973245,
     "user": {
      "displayName": "Valentina N",
      "userId": "15695733022300975206"
     },
     "user_tz": -180
    },
    "id": "IymoEkbBiW0_"
   },
   "outputs": [],
   "source": [
    "def accuracy_score_for_classes(\n",
    "    y_true: np.ndarray, \n",
    "    y_pred: np.ndarray) -> Dict[int, float]:\n",
    "    \"\"\"\n",
    "    Вычисление метрики accuracy для каждого класса\n",
    "    y_true - истинные значения классов\n",
    "    y_pred - предсказанные значения классов\n",
    "    Возвращает словарь: ключ - метка класса, \n",
    "    значение - Accuracy для данного класса\n",
    "    \"\"\"\n",
    "    # Для удобства фильтрации сформируем Pandas DataFrame \n",
    "    d = {'t': y_true, 'p': y_pred}\n",
    "    df = pd.DataFrame(data=d)\n",
    "    # Метки классов\n",
    "    classes = np.unique(y_true)\n",
    "    # Результирующий словарь\n",
    "    res = dict()\n",
    "    # Перебор меток классов\n",
    "    for c in classes:\n",
    "        # отфильтруем данные, которые соответствуют \n",
    "        # текущей метке класса в истинных значениях\n",
    "        temp_data_flt = df[df['t']==c]\n",
    "        # расчет accuracy для заданной метки класса\n",
    "        temp_acc = accuracy_score(\n",
    "            temp_data_flt['t'].values, \n",
    "            temp_data_flt['p'].values)\n",
    "        # сохранение результата в словарь\n",
    "        res[c] = temp_acc\n",
    "    return res\n",
    "\n",
    "def print_acc(model, ytrain, ytrain_pred, ytest, ytest_pred):\n",
    "  print('Train accuracy: ')\n",
    "  for i in train_acc[model]:\n",
    "    print(i,': ', train_acc[model][i])\n",
    "  print('General: ', accuracy_score(ytrain, ytrain_pred))\n",
    "  print('\\nTest accuracy: ')\n",
    "  for i in test_acc[model]:\n",
    "    print(i,': ', test_acc[model][i])\n",
    "  print('General: ', gen_acc[model])\n",
    "  return"
   ]
  },
  {
   "cell_type": "markdown",
   "metadata": {
    "id": "iGFyl3xwhFv-"
   },
   "source": [
    "## Обучение моделей\n",
    "\n",
    "\n",
    "---"
   ]
  },
  {
   "cell_type": "code",
   "execution_count": 106,
   "metadata": {
    "colab": {
     "base_uri": "https://localhost:8080/"
    },
    "executionInfo": {
     "elapsed": 21,
     "status": "ok",
     "timestamp": 1654696973246,
     "user": {
      "displayName": "Valentina N",
      "userId": "15695733022300975206"
     },
     "user_tz": -180
    },
    "id": "KszMu8XLhHH6",
    "outputId": "9222aeef-7446-4ec8-f34e-11db851d3140"
   },
   "outputs": [
    {
     "name": "stdout",
     "output_type": "stream",
     "text": [
      "Train accuracy: \n",
      "0 :  1.0\n",
      "1 :  0.9971181556195965\n",
      "General:  0.9985590778097982\n",
      "\n",
      "Test accuracy: \n",
      "0 :  0.9230769230769231\n",
      "1 :  0.9225352112676056\n",
      "General:  0.9228187919463087\n"
     ]
    }
   ],
   "source": [
    "# Бэггинг\n",
    "bc = BaggingClassifier(n_estimators=10, random_state=10)\n",
    "bc.fit(xtrain, ytrain)\n",
    "\n",
    "bc_train_pred = bc.predict(xtrain)\n",
    "bc_test_pred = bc.predict(xtest)\n",
    "train_acc['Bagging'] = accuracy_score_for_classes(ytrain, bc_train_pred)\n",
    "test_acc['Bagging'] = accuracy_score_for_classes(ytest, bc_test_pred)\n",
    "gen_acc['Bagging'] = accuracy_score(ytest, bc_test_pred)\n",
    "\n",
    "print_acc('Bagging', ytrain, bc_train_pred, ytest, bc_test_pred)"
   ]
  },
  {
   "cell_type": "code",
   "execution_count": 107,
   "metadata": {
    "colab": {
     "base_uri": "https://localhost:8080/"
    },
    "executionInfo": {
     "elapsed": 16,
     "status": "ok",
     "timestamp": 1654696973247,
     "user": {
      "displayName": "Valentina N",
      "userId": "15695733022300975206"
     },
     "user_tz": -180
    },
    "id": "Nn8Z8zOMiRUt",
    "outputId": "a9b64f96-0d4f-436c-c348-fa2173a39035"
   },
   "outputs": [
    {
     "name": "stdout",
     "output_type": "stream",
     "text": [
      "Train accuracy: \n",
      "0 :  0.9193083573487032\n",
      "1 :  0.9798270893371758\n",
      "General:  0.9495677233429395\n",
      "\n",
      "Test accuracy: \n",
      "0 :  0.9294871794871795\n",
      "1 :  0.9788732394366197\n",
      "General:  0.9530201342281879\n"
     ]
    }
   ],
   "source": [
    "# Бустинг\n",
    "ab = AdaBoostClassifier(n_estimators=10, algorithm='SAMME', random_state=10)\n",
    "ab.fit(xtrain, ytrain)\n",
    "\n",
    "ab_train_pred = ab.predict(xtrain)\n",
    "ab_test_pred = ab.predict(xtest)\n",
    "train_acc['AdaBoost'] = accuracy_score_for_classes(ytrain, ab_train_pred)\n",
    "test_acc['AdaBoost'] = accuracy_score_for_classes(ytest, ab_test_pred)\n",
    "gen_acc['AdaBoost'] = accuracy_score(ytest, ab_test_pred)\n",
    "\n",
    "print_acc('AdaBoost', ytrain, ab_train_pred, ytest, ab_test_pred)"
   ]
  },
  {
   "cell_type": "code",
   "execution_count": 108,
   "metadata": {
    "colab": {
     "base_uri": "https://localhost:8080/"
    },
    "executionInfo": {
     "elapsed": 3020,
     "status": "ok",
     "timestamp": 1654696976678,
     "user": {
      "displayName": "Valentina N",
      "userId": "15695733022300975206"
     },
     "user_tz": -180
    },
    "id": "6GiFPfEInJB7",
    "outputId": "84eb86b7-d24f-42de-f5fc-50d285a765f6"
   },
   "outputs": [
    {
     "name": "stdout",
     "output_type": "stream",
     "text": [
      "Metric: accuracy_score\n",
      "Folds accuracy: [0.9571428571428572, 0.9714285714285714, 0.9857142857142858, 0.9714285714285714, 0.9420289855072463, 0.9565217391304348, 1.0, 0.9130434782608695, 0.9855072463768116, 0.9855072463768116]\n",
      "Mean accuracy: 0.9668322981366462\n",
      "Standard Deviation: 0.02430024505326127\n",
      "Variance: 0.0005905019096485488\n"
     ]
    }
   ],
   "source": [
    "# Стекинг\n",
    "# Набор данных\n",
    "ds = Dataset(xtrain, ytrain, xtest, ytest)\n",
    "\n",
    "# Модели первого уровня\n",
    "model_tree = Classifier(dataset=ds, estimator=DecisionTreeClassifier, name='tree', probability=False)\n",
    "model_rf = Classifier(dataset=ds, estimator=RandomForestClassifier, parameters={'n_estimators': 50}, name='rf', probability=False)\n",
    "\n",
    "# Первый уровень - две модели: дерево и случайный лес \n",
    "pipeline = ModelsPipeline(model_tree, model_rf)\n",
    "stack_ds = pipeline.stack(k=10, seed=1)\n",
    "\n",
    "# Модель второго уровня - логистическая регрессия\n",
    "stacker = Classifier(dataset=stack_ds, estimator=RandomForestClassifier, probability = False)\n",
    "results = stacker.validate(k=10, scorer=accuracy_score)"
   ]
  },
  {
   "cell_type": "code",
   "execution_count": 109,
   "metadata": {
    "executionInfo": {
     "elapsed": 13,
     "status": "ok",
     "timestamp": 1654696976679,
     "user": {
      "displayName": "Valentina N",
      "userId": "15695733022300975206"
     },
     "user_tz": -180
    },
    "id": "ufNtxJIO5fov"
   },
   "outputs": [],
   "source": [
    "gen_acc['Stacking'] = 0.9683022774327125"
   ]
  },
  {
   "cell_type": "markdown",
   "metadata": {
    "id": "T0R4yezd_J-s"
   },
   "source": [
    "## Сравнение моделей\n",
    "\n",
    "\n",
    "---"
   ]
  },
  {
   "cell_type": "code",
   "execution_count": 110,
   "metadata": {
    "colab": {
     "base_uri": "https://localhost:8080/",
     "height": 358
    },
    "executionInfo": {
     "elapsed": 11,
     "status": "ok",
     "timestamp": 1654696976680,
     "user": {
      "displayName": "Valentina N",
      "userId": "15695733022300975206"
     },
     "user_tz": -180
    },
    "id": "xtHYyYMP8TAj",
    "outputId": "ddbc8fcb-3096-4328-8e99-ce5aab0e9e8c"
   },
   "outputs": [
    {
     "data": {
      "image/png": "[encoded data removed]",
      "text/plain": [
       "<Figure size 504x360 with 1 Axes>"
      ]
     },
     "metadata": {},
     "output_type": "display_data"
    }
   ],
   "source": [
    "fig, ax = plt.subplots(figsize=(7,5))\n",
    "fig.suptitle('Accuracy')\n",
    "ind = np.arange(len(gen_acc))\n",
    "plt.barh(ind, gen_acc.values())\n",
    "plt.yticks(ind, gen_acc)\n",
    "# Вывод значений\n",
    "for a,b in zip(ind, gen_acc.values()):\n",
    "        plt.text(0.2, a-0.1, str(round(b,3)), color='white')\n",
    "plt.show()"
   ]
  }
 ],
 "metadata": {
  "colab": {
   "authorship_tag": "ABX9TyNgNBrM1gvil5Nqq/kDiiJx",
   "collapsed_sections": [],
   "name": "LR5.ipynb",
   "provenance": []
  },
  "kernelspec": {
   "display_name": "Python 3 (ipykernel)",
   "language": "python",
   "name": "python3"
  },
  "language_info": {
   "codemirror_mode": {
    "name": "ipython",
    "version": 3
   },
   "file_extension": ".py",
   "mimetype": "text/x-python",
   "name": "python",
   "nbconvert_exporter": "python",
   "pygments_lexer": "ipython3",
   "version": "3.9.7"
  }
 },
 "nbformat": 4,
 "nbformat_minor": 1
}
