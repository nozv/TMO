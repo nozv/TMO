{
  "nbformat": 4,
  "nbformat_minor": 0,
  "metadata": {
    "colab": {
      "name": "nirs.ipynb",
      "provenance": [],
      "collapsed_sections": [],
      "toc_visible": true
    },
    "kernelspec": {
      "name": "python3",
      "display_name": "Python 3"
    },
    "language_info": {
      "name": "python"
    }
  },
  "cells": [
    {
      "cell_type": "code",
      "source": [
        "# Установка необходимых библиотек\n",
        "%%capture\n",
        "!sudo apt-get install tesseract-ocr-rus\n",
        "!pip install pytesseract\n",
        "!pip2 install matplotlib\n",
        "!pip2 install ipykernel\n",
        "!pip2 install pillow\n",
        "!pip install datasets\n",
        "!pip install jiwer"
      ],
      "metadata": {
        "id": "gcL9XGY5H0uz"
      },
      "execution_count": null,
      "outputs": []
    },
    {
      "cell_type": "code",
      "source": [
        "# Импорт библиотек\n",
        "import pytesseract\n",
        "import cv2\n",
        "import scipy\n",
        "import numpy as np\n",
        "import matplotlib.pyplot as plt\n",
        "import pandas as pd\n",
        "import seaborn as sns\n",
        "import jiwer\n",
        "from collections import Counter\n",
        "from datasets import load_metric\n",
        "\n",
        "try:\n",
        " from PIL import Image\n",
        "except ImportError:\n",
        " import Image\n",
        "\n",
        " %matplotlib inline "
      ],
      "metadata": {
        "id": "dVaXsSCr8nQn"
      },
      "execution_count": null,
      "outputs": []
    },
    {
      "cell_type": "code",
      "source": [
        "import glob\n",
        "import random\n",
        "import base64\n",
        "from IPython.display import HTML\n",
        "import io\n",
        "import subprocess as sp\n",
        "import os\n",
        "import locale\n",
        "os.environ[\"PYTHONIOENCODING\"] = \"utf-8\"\n",
        "\n",
        "pd.set_option('display.max_colwidth', None)\n",
        "\n",
        "# Функции для отображения превью изображений\n",
        "def get_thumbnail(path):\n",
        "    path = \"segmented/\"+path\n",
        "    i = Image.open(path)    \n",
        "    i = i.resize((400, i.size[1]*(400//(i.size[0]))+10), Image.Resampling.LANCZOS)\n",
        "    return i\n",
        "\n",
        "def image_base64(im):\n",
        "    if isinstance(im, str):\n",
        "        im = get_thumbnail(im)\n",
        "    with io.BytesIO() as buffer:\n",
        "        im.save(buffer, 'png')\n",
        "        return base64.b64encode(buffer.getvalue()).decode()\n",
        "\n",
        "def image_formatter(im):\n",
        "    return f'<img src=\"data:image/png;base64,{image_base64(im)}\">'"
      ],
      "metadata": {
        "id": "1W8braSoSxtV"
      },
      "execution_count": null,
      "outputs": []
    },
    {
      "cell_type": "code",
      "source": [
        "%%capture\n",
        "%cd /content/drive/MyDrive/Colab Notebooks/nirs/data"
      ],
      "metadata": {
        "id": "AIdKfsrvBsRk"
      },
      "execution_count": null,
      "outputs": []
    },
    {
      "cell_type": "markdown",
      "source": [
        "# Загрузка данных"
      ],
      "metadata": {
        "id": "BUZ7ofIl9YUB"
      }
    },
    {
      "cell_type": "code",
      "source": [
        "# Загрузим файлы датасета в помощью библиотеки Pandas\n",
        "test = pd.read_csv('data.csv', sep=\";\", encoding=\"cp1251\")"
      ],
      "metadata": {
        "id": "JdFGBrRR9eCV"
      },
      "execution_count": null,
      "outputs": []
    },
    {
      "cell_type": "code",
      "source": [
        "# Первые 5 строк датасета + колонка с превью изображений\n",
        "test_show = test.head().copy()\n",
        "test_show['thumbnail'] = test.img.map(lambda f: get_thumbnail(f))\n",
        "test_show = test_show.reindex(columns=['img','thumbnail', 'text'])\n",
        "HTML(test_show.to_html(formatters={'thumbnail': image_formatter}, escape=False))"
      ],
      "metadata": {
        "colab": {
          "base_uri": "https://localhost:8080/",
          "height": 248
        },
        "id": "BCUsQPyQVHCa",
        "outputId": "1d0e418b-2a42-4a07-a3e6-9d3ee5fd765c"
      },
      "execution_count": null,
      "outputs": [
        {
          "output_type": "execute_result",
          "data": {
            "text/plain": [
              "<IPython.core.display.HTML object>"
            ],
            "text/html": [
              "<table border=\"1\" class=\"dataframe\">\n",
              "  <thead>\n",
              "    <tr style=\"text-align: right;\">\n",
              "      <th></th>\n",
              "      <th>img</th>\n",
              "      <th>thumbnail</th>\n",
              "      <th>text</th>\n",
              "    </tr>\n",
              "  </thead>\n",
              "  <tbody>\n",
              "    <tr>\n",
              "      <th>0</th>\n",
              "      <td>001.png</td>\n",
              "      <td><img src=\"data:image/png;base64,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\"></td>\n",
              "      <td>нуты самому внимательному изучения, но они повсюду</td>\n",
              "    </tr>\n",
              "    <tr>\n",
              "      <th>1</th>\n",
              "      <td>002.png</td>\n",
              "      <td><img src=\"data:image/png;base64,iVBORw0KGgoAAAANSUhEUgAAAZAAAAA2CAAAAADM5pBXAAAcvUlEQVR4nO2cV3cdx7Wgv6rq7pOAQwQCIAGSYAITSFFMEmwF0pQsycqUk+xl63rsZd87y153Hmd+wbzN+8zYnrHs61G4kqxg0ZIoUpJFU8ykmHMAQZDI8aTurqp56APgHARK9rqS/cD9AnSFXTtU7dq1a9cRltvwjwTy703AbSgHp/TDaCuV+HuRchtgkkKE5LY6/s4ginuItRYUgB6rktMrx5piz1JrZ0q3orKayc3HWhaxWzvNJibETPOivLkUJd8T5I4NWYarrHDKgJIyHqQoGUoKJjE4A6UlxEyIYCox5Ygnw9gKsVpHCrEBCCzISD9TwIQWQKhSWowuIdgpqylvbosthaMmxp0M0plRIaXNpRA2NESzagwhYHSJEFTRBhfpmBYi4oy2xQkasV4cSqImyL4lpSXETAjHlhIjHTHBg5x22onScXSfn6ouGWBqB1tq06ap/8yaLwEmD/5lEVM+zt86atke0vXylQ3PuuOfvirf4a3RFuGNfYbGiRam0bil7TChmn51fQlgQxMrLwm+FGKs1qXjhlb9bQ7smEKMceDoC58+tm41mAiXO2lNiXKjN86nKNMqIGY0OV88CGeybflyiBHlCvib54ADBglXT47CX44VDr5xBoKYgYY7K8GX48K2JlJI17EhMCZxxyIIjSu0FNDx6YiUjkZaY91VywRaO9Jaiblydgik8BYvTQBkz18IQMp0y0IB0Hn4UrLCMyFKgLVGCg1zls8tklUC1ijoOnIunoyhpQzy2fq2+YPHOsGTQTZTcWerwgTCE6LvSJ+QejirkMn4svUSQJ88OpJMONoCVkihh/MqFQehwnw2tvqOBMHx46PJhEsoZM2SZuj/9LRMelC1bDGMnr/sIxyLiXYEIYXEGDN3WZ0URqG1K4R/+IpQjgitTa1eAIFRDlw+3JlIesZIEWRzTXcuhr7zVy1A3YqmqVzigLESzv7+FIzm6fp9JeD5lvXJDRjfGVeI0ZHrcPT/XAEd1v5oEYShg0bB/l91OioWWFeHJJ9tjhEGCo3EHP23i6BU+pmGBMDwB6+MIJRa8r0FCqDj1e2V6aRfEI4Co7UjfWh7bi6EspxUEyq48YfXE6kkvnJzucyGufOvv7QbKpzc6PCCn61Q6LxyBSd+fdqR9I26kExsa5wDEB763+3JZNw3CGuFUuFgVlUkQHr5fKb2h0sT+Pt+05FKJMkptfrbzdD7zksmGYPl31sMgzvfGEbFjNXR5i6VcoSv9T3fr0FpIcNAOlx9eadyEiprqHtuAYR+zIHzv9ubTCXD0FG5TPae5GK4+dafNMD655qmcolTdMy6D14AXFE4PVZzZUG6prYCjBCAkUrRMyDIvfdaCEDz4oX1cbCW7EDXhzv9CZzJ5tV18Rg2lGCv7+kCYMljAOTP/wWAc3cbhbXChvnuyasW7zHATLY0FosJCz1jJikZaHtj37HoIz7XYBBJl97eD3f2AKrCMlxg1sq7qtIKq/2BzjJ0s8Ibxf/ildpay0SLm22ADQq9ITC0Gcid3T2FSoAqHQONF4sx1PfRrmNj5bXzF9YnHGsQNsh2jZVWBgYYPXUEAPON6bgcd3sNk6p7Xrry9WcUhI4AG3rA4bezhPsiffBJfsO3mkE48sr7x46U6IOd8u5tq0GHHmCLfupQ8W/RCRzKAGHoNj295E/7J7M5rdMvHTRzHl/4yY6IgFUPrG/yu0eiyvptd65TPnHQ771/vAfg0bsUFz66ePL5w1vvTeGs+8mpHedK0D3y1Z432gFY8NDqdcnAuhvFqR3nJ2it+VrVsQ/6oeiuT0MR4NYANvCAvdtPXBgvf7fQ9q35Lr6OLX527YefRIX33b9iKRPRqumPNg4ggHjtJYgH4Vi5Z4NjJ8MVa4r9rAE6P/q3AaQrLCg3f+bM5eZmQHH1zZ0Q01Ff5eb9ty/PWe4WXeRkfS9A1aLIB1HpWUMArXMEWO3Mm/dE48hpiPuRphxVgJpYkapSEA6Gxm1P/a7zU4CKrb9YBmEagNg3/8tyyAvg0JsvAfDgT5+AA1zu/9Opuk0pnA0bzoRXfFzhSy8PrT99+nRXpJB7/2UDZG2qre10eNUHaK0D6p544r3cdmhIASpdNYhy/BIZurIAsR5AGODazueHii0cJ9/98vWF88Fo29IyUHm1E2DBUz9NA8SrlQaojU/D5fgKkV4MJGrF2ioIcF175S99e186u3IxWC2E5PKps7sHwDRurDPm9BHg+B9HFq+qg4FzQHzjckToq1S13v3B6XfMypXVjgTcZAxW3LVsfTo0njHaTRTw1m9o2SBDJR0J3qPqyJ/P16xZAt0nLisJuDN4jBaQjZUxwMZnNQLpCidk1qbVjywHlMwfPnBsN7g1y1o2bgKaa+NZOocjXS+aHUd4jmMdsaR1w72yJhEDrKhZCFgLLKpPQMXK5auW2kA6sGFuDOIOIBOVIfF1i/TJYxqgvnWxEv0Xz9586ci6dSnB+bNnPxlCzFrRkjAo1X/w3LG3hlaujCsB1Q0pTwDJumj2SDemAbxpuRx3ewMfhPXW/mgRZEVCcCT406XfHvh+Y0oY33EdTv/uSBfgbHpumdavXhqFzPb9j9fWgaq5BjUPbRMin3dTaZ2+2P7hsafSsyMvWfvQvO1e1/O1Z62xQQF37XOLY9KXkeM879kVl08mH3oSDmXPCiyEM4Q5BEB/1gcoDN5cCoIQ5j39SC34jicGPvllRxZE8t5tDbOA3pECVCWiadg1XAiwNgykWPrsxlrOdkd2dqS7toi6O1sIcNu+3VSF7zjQM+qDH9laEyK+us1//nAAMPuhJwSXXj137kLtc4tnKXvsheO9oGzr9xu1EaI7fX3k7QPP1jc7AoLBXACQH8glIkwRymBaLie8WgsWOXfj2FFdfRQrXMs9Vg1BKIWgY1cPniiYuvVzgf59Pd0jPT0rskDDFk/r9fe1RP2CTpmW/f2nhseCSBZ04CsApWoTwmK1HziuQFgR5p3Q97Wtbl0KYW0U5pk5yGF0OFKMgaQS9F0/M+zV1jyweQk6Q4W0SNdVIX6+ZVPEnbBKVSckoPVgzloswmpVv24ehc6RCFF+sKCiUMlgwVq85rvBSpG7dn3/5bHZYXJ9ecKGtXwYhTYqli+F5B/6iHuOEMJe3TkIhAOpO6sAVp7fcbG7+0JWggn7M5FnZq0AC9beisvJZ7qJWJgxGpzUeI2fARViBgtA67+eefu1EYi5wMJn7jW2vqgPXvvzmZt2InKmNXD+xcNtX01KYFbcgr8/WHbfBiW0VtKzx3cfPW+rE7dUxBgIOXYcVY1NHPrtpY701i2rFoOKIWyYvLfy2NuXYKg4eH0Sg7YWEKVhB2tAjZ3kpFJSTLSw1gqEJ27+8c2bXUCoAZPLQ5ifsPkGyF6DJx9orQJsJioeyFYB4BqKIhBF7CBTcSjMvP4jmKQQm+2phoxIQs9IKERVpr9SRQfC+jsPBTmcyjptQ60Wpo87CK82DjQujDqHYUzrXb/cCUCsKDijgXPnYj9vTYMOr90IwN+/f0lqnYP2Y67nn/zNKUjlDPTlPlMhajxcUBjIffR7aF7/nTRhGIuB1vFNm44XfguLR/oqENZeGMTqUANIigqwQK6vWThjFAoVCUGiBGBGuhoQDoWrh0bH2uPUNPZSpYYLg9GkCYYM9InYHT98HIC5G45aK6ioK9hQQ/eVHCJRqSLsRcWHA71VThy8W57iJ68QEwYQiADCAKlG9xRaNjR5MjTesmeXb+/igYc3LfH3fpqoDM77UrlSAGPRLcfh5N59B6OP/qIjXFxyhYtZ4PCeswfzHj5c7LFgjQWbuQlIG8AtArKTQBn/UCK7ByCehkB7AoQC1nxnCTjhb5WSw4M3jtnxqG0p2CB0hHJdM43raYNcznO0SN3xePvFLlAOkNrEiKloZXg06mAJIL114ZK7ok7Lv3231rHU7LZF7DscmsyhvFTlonXJ7HNb70lBXeJWnE1WiHI9CIQHjkWbrvd2f232fJeC9pY3rW3vqtz6Lwm6d74cCpkfMYa8BoLx0KLe/evrI3j4Jf5c8Z8qAZx68dMgTOHD7LQg8vFFsr4fjPTAmcG7mobsML/roBkFgqHBKrxQAFIC9u6vQOe/vZJDZYdCQXGNloP0XBHZ9GlAua60BVXz5OaPn+8C1wMq7rkrCBLpVGdxDau4B03f0bHaiMflcwqgvOo4fTv/n6+lnzNG5kttk6eHPzrytdoNkA+nDFnK2eQCIcauXQzYYGDg7BACY00iUf1kPFHbl8kc/eMZADUW7C8UpBDDlwYFN185Akm3ULGw6d56a6QohiAblzbfn9bWiVVVZ0YtqrFx5VKhBcJYiKW90BgrQAg53X3VNCCF7u2FZBha4Y4p3RopsCMh4uanJwGnwSvcGDvZTWYT8gN+WZGNFrOqaHCxIbG6utx2imr26qI2YTBOAKQqgYJSwtqKCoDhnoHek6+dGxNO2V4hTdjXNzCrB86et0LMuI9MUUgZzQAJBxDCdxzn6fsvHPvv+dzNoxP1AjBBXDo9r7+LKJwCfK0btz05u077ngPSAVb/U1tFVWCc9YkLf96Vx7vr0ZaFsiC0tlJhtbaR1KTjaX3LLW8SbUIImUxRNPRhIeYyun2PUiMHAbZsEx++YpFTbba1gD9U/CgWmjAwgEy6Y4X58bU1cRVYigXAkcJoHQcI//BJ943eC1PaFbEDg7/ZBZk+K53CTJzdQiFFiCtAxYX1vQXzej/+EEi5xg8cMzauE4uBf/O4JV6FNSMh8XlrXBEaS3F+JuvnKZUzLFs2mN8zSnL5N+aCiEVxMj1u5HU+/5nkFNmzIuGhR0D3Xq3zpMAiVMwNCwde2w5U1liqv/fjbN+rxSleDkIA1St7/LyZkJ1SSQX4HefmxlxHYWxfnqLyTN7VQVzIcVwWCEIHqUBKtzCq4P3/uRcqqgh9PSGcMQhDGYvp7HHA2hmvqG+pkOKsGPYBJRAeF49+vBdgy8b+3eeMBqRE65gCW9lmrE7NSl0/eEqboX3eolU1jjTG90Pg/MvH122MKaAqKUEkqyFQUVinUNBCKkcAwSCA+hyZL0alNq/L7joMmb2mZdMSrDaelJz56PBhgKWPJEjcR2J8SpSDcoBVP978yUc9xfsSa4HZMWDk/Y7WB9Z50pqSa1trtdZaTcKlkZIQB268ewMO70VuXZJOnTx63U7Zt0KbvnuDGcrA4OmLU6vH4bNNliOBUEjIvvWr63lg4XcfOXnphDERH0JqBbbp20/oMK7kJ52nhOh67Z1H/3l2DIQwIXD2Us1PWpos0D1swGR654F2AKLEo2jrUAnGZPMZEErvKz8YHT0MmT2H22a3SKFDVxB+/L/aR4HYwz+rRFRyoctOi08qoHn+EEd6Su+SMnkL2QOH2havc8EpCeEI5WnhTcIlXJditPT4v38KGXj65yuVfOXqFTPF8Boq7/lhShs488vLt7DLUw+GUbjdWiMQIjmvoa0eGL08jLjxp5OsWAyt99fVjka7W+AjZd+F7LyWRNGZa/QDCAcHTw4LQCVnuYBXWZ2QFsJgKG/Ajg40uO7Qmd5QNC9PNSas1lGAddNo3/UBYwZ9bnFKtIAxvWI+Wy51dA5mMh3SBSvov3b5g+OQaG5Z9vhCgFzvKIAp8lSCwgLZwe7+cKzasabz2plLBkR6VkMSI4SxxbiqntnCWCsFI+033z8wDLQu27YVmJMNxgktodptWgRAxVu3OgJPOYcEgaPAaq0l0pnzjQeaFgD9734A2fM0f3cLVDXQfjNqHgTApV+2P/KvY4iGiltlsliQ8IA1j9yxZFZg4uOj4ELHi/uNeOQ/V9YngEAATU9u3PPmABT0FH5KOYugva/23vodfxyEdAVYHHHh1UPngHDNj1bXRtKK5pYJJt/xmxA4vf3olT4gCAKlHIKDr51v15Da/OCSldZXjtahBay+xaW8DT3FjTd2tg8DS75531KA0aHp2xaduhF/2uoiTFaIVxkDEI5TEUdrVkb3SqPHdgKo5Vu2ACBWDGcyGuKezYzseL1Ptq1KxLKOB8nWzuyolrLWBYJcpsMHFj21DrI67jiz4gJEPG5GR3e+fRzEhrWdeZWIL05jqa5epz8Qqco7a7Fimr0YKO7R8YrqdE9VU9PgHiGFd703mUzA1e0nUNKYREOjIkdCJKsTgIxXepNwGA1cfvNwhDAVA4V/6b0ugOQ9PwcbWNd1Uw6gEnFmBGuQDB7chXCsWPmNNoyWqnZdmMnoKWm6ZrS/EqAnOzO+KQoRFXMoTsLaCs9noGjsbHSYEarIWpt37sP3BxC11YWP3tzbx4n/u+HrS5IAG3523+73brpOzALX9pw41Q1Yl6JfPjslQVWnszvePnUeOP77D6731LWtWz1P50US4jnvnqdWtRijZtrZ3YSn9cqH1s6vASo9F9pfP33PQ8BgB6hkmD372rm7FycA5lbFtE3UVETEl8SyAIKiYGI1UVkQxaNUDRRvgao8wJ0VdShPwAn9yJu2RKlsAMm5oLOV3F9xete7g5NSPZR05WeFTmFqLCvX31gkfSinocKPQsYq4inMDQCB9WoeXDO0ZwCRrgxO/fsAdL1wtn4JYIX31Tv8fTf8MAyAjrffDgJgtIdiNt9AzoJIpQqfvuAbh7D/9dD6zff9sMKzxgHO9zgrvjVbaH2L3B1tadr6IELAUEZbc6kjNbxkCaQWHiXUwhw5vfjniwRAX0ZrgpEolFCyIRd98TMABEPzAERy9ihAeDOXKK7DkQAIRwExWY5jnqAAnHSklKGrzSjHj6fuW97z50FE2ZQyGOF6MPNtzzQKcdDHnl+2crkShc72w8d17crWBQXreKDz4DlBKFzAnL6RrMgPCoUK/Fhd67Ubfhge3xUXBIGXqpA91lrTlwey10dAWeGmAEfSefnSWa0QfuA0rL5+I1SJYAAYSteBqYQT5/YMi4GzI3UpUZ6TVwLZHo3Mtp+pmu3qsP+mRuhc7pOFdy5Y0Px404mrI67y/aM7qtxsDtr/4sPFd/TSVQvBoBRKKUUUf3VTKR1KEXbs6prf7IFTmQy1Ijj24qIl81w1erXjYLejzOD+WNOiZHHNCKkMWJGoVRPLRucBT+qbO0bWNaYunLdy9IpRE96bkAq07snaiU9mStUtU4grcgfOLHtusSsG9751+gxr/2ltQ8oPPTB50KqYghXsfpOY6sq7qIGB2Zvn7XjhGoS7ToIxyvVU97A05A3gVIArrYinAcdy6uWTXYGL6B+c91DLWy/0aZ3wC1DIAhIyO16/Fsp9fRueWueIYOoJO7I0OVAXfrvza481KWlCcGK+f/F3B5+cu6K67fmrBHE3z77OYDALuV7AvnPoqz9eCBrX4jrWMhFnd2Iyd+53C56o8zChtUrGbXCgfe0z813Rt+OdrpsxL+x6e++D31k6FvlULlgrvMQ4PZFwZNwpdL555BeNHP7lSM5m8i5qPKvZcbF67KYLVLRGps8XK89+FzYfDuSsInfgRest3PJwA/gWS3Lx/JHBHGTPLwvDT994f6xH17CzaFHF9Q9GRkZPny7BlE4vTRfJD4Cre910lQsXt18HKHRn3JYW98aeoaxWpCqXpoaTyg4PHHj1L8DZs1fvXC/QdopCJFhqW/VQrr0deW+TELVrgsGcdujtvbBC19Yuv3r5ykBewNWrkAQ5O+442fzwYA7Q2WHIOyGQCQF/OAsFFXZ0HGx+BEx2IAeBNaOXbq5HMbz/XaAQjvSSeFAUk9BNNsqquLa/Nl0tJQYsqcXzRoaGlc70HFvQUHjrfURSjkA+U7xr9Efy4FUtmqsMEnQ22qxGgsn8TVFIIJw1G5fd6UDYYbn7O3c1AC5o6h9b9PGbPs7AexeGhtr3jvcYtcCq761+f2c52vu/1rIAsMWkkH3Bzq2PNsBw5C3bjAXu+MEd73+sNcseWrnGhdwH2z89EDXvyTPt3iexodP63Jn39gM5gNYfbNq+3/jAUE6A2pw49EZH1PPhtUBlWsrCaHb+QoAsQAgwElKMZdkQsMMabLafoti7s0AwMN68f/xcFBYZOvmrj7c+3ijQEk3D40s/eiu6dXnlemE3s56qO/4e46EwWxgEFn9jzVovyosp4ohOW1PyLMsUQnzTL5YpB5w0dU/9TBHieGCo3XL/rHPH0B3ttiz8V5cCKh++S5/oKkW09JEfxSTRXQXC9c3Bi3WbgVnLTwF4s5NAzeMbzelexF3fXykV+Gff6QDXaFg+i2lNrMJod0XL1fzJDIklSWD50s7M6RGARXMUsHJZS2cHAJt//nUoOG7EtAZi1cJCzLcwy6XoXTmqALVzHJCpunbwbADLqoH4fKUhFhhoTlJ0Yp1ZAJ7P8bPVmxVYB0PdA1sqzp0Eaeh7x4dv/reGF090omqiawlZOec6tH1/rVSZCRxQG2OauM5kt7d2uQdaJr9iard42IIT5QkJh7ZnFpy4kgFWNVSltbJCh8h7agh1zKm7v7vbcbzAgHIKOlx4T3T1W78lAa5TyIw4C+PA8m9u0iHE2tJWh3Fn3pa+bmJfXxOFKJs2tFSnXb+gnNb5wPRur0TKpVuHMqqyLQ1I2bx1aBCpVGOr0lo68s5HY1YIpe6+Lw5lJ4iqtnyIcsMQeU8tsODrTeDKglI1GxPgtG7rgpj1HbWkBai6V+Q0rtaOaps9JqlZbb7GcYPMcLAkCUiJQDjOV9pXW5FADw+F1TVPt3Dfd2/g3hVJ3mt9pgfx8B1uUalVX4kucVfMZ5rIp7AE1oOX/scBgPg//9e5UHB114A3LwVR+qhFQOH6hd/+Htj6o6WeV3AlWKipi1kEDHcWipcZQhhrk01JALI9Q1E8qyAa5sahvy9vAVkz27MIGLpRQM6J7hrCm5065kprEBWzK5nByzIS6L8ZClVbnIADNwIEIja7OnJ6OnutAFHdNLl7obffgrQWqmcnYKg3A0IYhFtT42D6+vyoWiRrq6DQN2As0lpB1exEMQs339sPQtjA1w2NSTAyojN/fRSUtb5vY7G5s8m1FxC1tTEA3d/nw5x6iNJu8z0DAKTq0tNwOVkhz/1imaNyMQnR3Uuxmc65Mcxvft2rKv/TT8rfHkzzHAHwxWem4xtdTJv/614vaFPifo3jiMAa7Y4zWCi+POJWL4D+I2DSSwTQenJogM/NZbnJEhitx/ktseLClSDvS2ZUbP0U4YtpRD/986Dp+8kZHs/N0KtsuPKxRemLCRkpRNgv/K2xmCRpOW0q7OfjslwhFjeZHI8SlEhexgBaWpgOJtMzFe+0MGE+P0fj6bpN/pj0PWXifFEwhf8pD2aAz8vleCqp44LBndUIWAg1Tvk4Whffiphg4iXcmC3Q5Rf3org6S177KSWgmMw/9vAvem03ZhjDieemtzZ3Zd3GXuxNHnIqjpL3idIRZa8Oy4gr4prcPMIxkVRVZgZ16RNEpYQOSxgr+5jAIabN6RhXm5AgrByTtKMm7zZj+V7IUgMpxirLG481FeVF482KgaBI52M3Yaqs7cxQlL0o/Zg65BQcQpUPIEuWUBlx0efk5kWKmVrIZP5F8btMOFNx3PKkXhgsAAwdeXNFU72c1sUR5RN6UuV0yKcW3/L7c+8kt+w1M5a/ipgZEM2E/a9h7JZ8OsXDYlA8Pu663vrdxxyh7TQWONpAb/8YxxcKTlFhFfO7ICky5kSw2bgz3GvPdGd0G/7jwClO+aXPbISYyGVG6hfJGRy32/AlgLDRfpEd8UFidOhUp2e+jLgNXzSI20vhHwtu7wr/YFD+CheY8VeAbsOXAhMKGT+mfo4o1G34wuD2HvIPBrf3kH8w+P9k+cT/mJ+TCAAAAABJRU5ErkJggg==\"></td>\n",
              "      <td>разил капитан</td>\n",
              "    </tr>\n",
              "    <tr>\n",
              "      <th>2</th>\n",
              "      <td>003.png</td>\n",
              "      <td><img src=\"data:image/png;base64,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\"></td>\n",
              "      <td>29 Найдите графы, геометрически двойственные к стереогра-</td>\n",
              "    </tr>\n",
              "    <tr>\n",
              "      <th>3</th>\n",
              "      <td>004.png</td>\n",
              "      <td><img src=\"data:image/png;base64,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\"></td>\n",
              "      <td>диционно входят в другие учебные курсы — такие как</td>\n",
              "    </tr>\n",
              "    <tr>\n",
              "      <th>4</th>\n",
              "      <td>005.png</td>\n",
              "      <td><img src=\"data:image/png;base64,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\"></td>\n",
              "      <td>разобран и вынут. Временные фермовые крепления шахты</td>\n",
              "    </tr>\n",
              "  </tbody>\n",
              "</table>"
            ]
          },
          "metadata": {},
          "execution_count": 6
        }
      ]
    },
    {
      "cell_type": "markdown",
      "source": [
        "# Основные характеристики датасета"
      ],
      "metadata": {
        "id": "eirpVuPxcPJk"
      }
    },
    {
      "cell_type": "code",
      "source": [
        "# Размер датасета\n",
        "test.shape"
      ],
      "metadata": {
        "colab": {
          "base_uri": "https://localhost:8080/"
        },
        "id": "EZ9dFRjlTl5C",
        "outputId": "a647e68a-bd9c-4290-9c88-86afd3e2c7e0"
      },
      "execution_count": null,
      "outputs": [
        {
          "output_type": "execute_result",
          "data": {
            "text/plain": [
              "(425, 2)"
            ]
          },
          "metadata": {},
          "execution_count": 7
        }
      ]
    },
    {
      "cell_type": "code",
      "source": [
        "# Названия колонок\n",
        "test.columns"
      ],
      "metadata": {
        "colab": {
          "base_uri": "https://localhost:8080/"
        },
        "id": "72jjT_ADVbka",
        "outputId": "c54c5959-a3c7-4968-a7bb-77848ef9101e"
      },
      "execution_count": null,
      "outputs": [
        {
          "output_type": "execute_result",
          "data": {
            "text/plain": [
              "Index(['img', 'text'], dtype='object')"
            ]
          },
          "metadata": {},
          "execution_count": 8
        }
      ]
    },
    {
      "cell_type": "code",
      "source": [
        "# Типы колонок\n",
        "test.dtypes"
      ],
      "metadata": {
        "colab": {
          "base_uri": "https://localhost:8080/"
        },
        "id": "XWMUHAcZV-8H",
        "outputId": "71fa954e-cf1d-4819-e0d0-c2aed5cec8de"
      },
      "execution_count": null,
      "outputs": [
        {
          "output_type": "execute_result",
          "data": {
            "text/plain": [
              "img     object\n",
              "text    object\n",
              "dtype: object"
            ]
          },
          "metadata": {},
          "execution_count": 9
        }
      ]
    },
    {
      "cell_type": "code",
      "source": [
        "# Проверим наличие пустых значений\n",
        "test.isnull().sum()"
      ],
      "metadata": {
        "colab": {
          "base_uri": "https://localhost:8080/"
        },
        "id": "qUro9bhoYZEa",
        "outputId": "ede16d44-13b5-4b37-fb52-ae46026a678c"
      },
      "execution_count": null,
      "outputs": [
        {
          "output_type": "execute_result",
          "data": {
            "text/plain": [
              "img     0\n",
              "text    0\n",
              "dtype: int64"
            ]
          },
          "metadata": {},
          "execution_count": 10
        }
      ]
    },
    {
      "cell_type": "markdown",
      "source": [
        "# Построение графиков для понимания структуры данных"
      ],
      "metadata": {
        "id": "3FAkUHC9cgtR"
      }
    },
    {
      "cell_type": "code",
      "source": [
        "# Диаграмма распределения символов в данных (без учета пробелов)\n",
        "labels = test['text']\n",
        "\n",
        "counter_length = {}\n",
        "for lable in labels:\n",
        "    L = len(lable)\n",
        "    if L not in counter_length.keys():\n",
        "        counter_length[L] = 0\n",
        "    counter_length[L] += 1\n",
        "\n",
        "labels = labels.map(lambda f: f.replace(\" \", \"\"))\n",
        "N = test.shape[0]\n",
        "max_len = len(max(labels, key=len))\n",
        "\n",
        "counter_chars = Counter(''.join(labels))\n",
        "counter_chars = dict(sorted(counter_chars.items(), key=lambda item: item[1]))\n",
        "max_char = list(counter_chars.items())[-1]\n",
        "print('Размер датасета: '+str(N))\n",
        "print('Максимальная длина текстовой строки: ' + str(max_len))\n",
        "print('Самый частый символ: {} ({} раз)'.format(max_char[0],max_char[1]))\n",
        "\n",
        "plt.figure(figsize=(15, 15))\n",
        "plt.title('Распределение количества символов')\n",
        "plt.bar(counter_chars.keys(), [counter_chars[key] for key in counter_chars.keys()])"
      ],
      "metadata": {
        "colab": {
          "base_uri": "https://localhost:8080/",
          "height": 953
        },
        "id": "lgnEcJsUYckI",
        "outputId": "366fdc1f-d9db-4ef4-9419-9b7aa819698d"
      },
      "execution_count": null,
      "outputs": [
        {
          "output_type": "stream",
          "name": "stdout",
          "text": [
            "Размер датасета: 425\n",
            "Максимальная длина текстовой строки: 64\n",
            "Самый частый символ: о (1901 раз)\n"
          ]
        },
        {
          "output_type": "execute_result",
          "data": {
            "text/plain": [
              "<BarContainer object of 84 artists>"
            ]
          },
          "metadata": {},
          "execution_count": 11
        },
        {
          "output_type": "display_data",
          "data": {
            "text/plain": [
              "<Figure size 1080x1080 with 1 Axes>"
            ],
            "image/png": "[encoded data removed]"
          },
          "metadata": {
            "needs_background": "light"
          }
        }
      ]
    },
    {
      "cell_type": "code",
      "source": [
        "plt.figure(figsize=(8, 8))\n",
        "plt.title('Распределение длины текстовых строк')\n",
        "plt.bar(counter_length.keys(), [counter_length[key] for key in counter_length.keys()])"
      ],
      "metadata": {
        "colab": {
          "base_uri": "https://localhost:8080/",
          "height": 517
        },
        "id": "m7dw88Joeikr",
        "outputId": "c00fa936-7248-4464-a1b2-90a19de643e5"
      },
      "execution_count": null,
      "outputs": [
        {
          "output_type": "execute_result",
          "data": {
            "text/plain": [
              "<BarContainer object of 53 artists>"
            ]
          },
          "metadata": {},
          "execution_count": 12
        },
        {
          "output_type": "display_data",
          "data": {
            "text/plain": [
              "<Figure size 576x576 with 1 Axes>"
            ],
            "image/png": "[encoded data removed]"
          },
          "metadata": {
            "needs_background": "light"
          }
        }
      ]
    },
    {
      "cell_type": "markdown",
      "source": [
        "# Метрики для оценки качества распознавания"
      ],
      "metadata": {
        "id": "XFRbIVkAjGmP"
      }
    },
    {
      "cell_type": "markdown",
      "source": [
        "В качестве метрики для оценки качества распознавания будем использовать метрики CER и WER:\n",
        "\n",
        "CER показывает частоту неверно распознанных символов.\n",
        "\n",
        "$CER = (S + D + I) / N$, где $S$ - количество замен символов, $D$ - количество удалений символов, $I$ - количество вставок символов, которые необходимы, чтобы получить из предсказанной строки истинную строку; $N$ - общее количество символов.\n",
        "\n",
        "WER является аналогичной метрикой для оценки частоты неверно распознанных слов."
      ],
      "metadata": {
        "id": "0PsbpJB_jL_-"
      }
    },
    {
      "cell_type": "markdown",
      "source": [
        "# Распознавание с помощью Tesseract"
      ],
      "metadata": {
        "id": "HjePZGQLiwVd"
      }
    },
    {
      "cell_type": "code",
      "source": [
        "pred_pytes_list = list()\n",
        "for i in test['img']:\n",
        "  img = Image.open(\"segmented/\"+i)    \n",
        "  pred_pytes_list.append(pytesseract.image_to_string(img, lang='rus', config='--psm 6').replace(\"\\n\", \"\"))\n",
        "pred_pytes = pd.Series(pred_pytes_list)\n",
        "pred_pytes.head()\n"
      ],
      "metadata": {
        "id": "tdlOYsbPT3QP",
        "colab": {
          "base_uri": "https://localhost:8080/"
        },
        "outputId": "2a911bc5-8af4-4bda-b5de-630e5b37120b"
      },
      "execution_count": null,
      "outputs": [
        {
          "output_type": "execute_result",
          "data": {
            "text/plain": [
              "0            нуты самому внимательному изучению, но они повсюду\n",
              "\n",
              "1                                                 разнл капитан\n",
              "\n",
              "2    20 Паидите графы, геометрически двоиствептые т. стореогра-\n",
              "\n",
              "3            дициопно входят в другие учебиые курсы — такие как\n",
              "\n",
              "4          разобрап и вынут. Временные фермовые крепления шахты\n",
              "\n",
              "dtype: object"
            ]
          },
          "metadata": {},
          "execution_count": 13
        }
      ]
    },
    {
      "cell_type": "markdown",
      "source": [
        "# Распознавание с помощью Ocropus"
      ],
      "metadata": {
        "id": "sQHTumhRiu-1"
      }
    },
    {
      "cell_type": "code",
      "source": [
        "%%capture\n",
        "%cd /content/drive/MyDrive/Colab Notebooks/nirs/ocropy"
      ],
      "metadata": {
        "id": "dusy_dYAucM_"
      },
      "execution_count": null,
      "outputs": []
    },
    {
      "cell_type": "code",
      "source": [
        "pred_ocropy_list = list()\n",
        "for i in test['img']:\n",
        "  path = '/content/drive/MyDrive/Colab Notebooks/nirs/data/segmented/'+i\n",
        "  out = sp.getoutput(\"python2 ocropus-rpred -n -m cyrillic.pyrnn.gz '\"+path+\"'\")\n",
        "  pred_ocropy_list.append(out[out.rfind(\":\")+1:-1])\n",
        "pred_ocropy = pd.Series(pred_ocropy_list)\n",
        "pred_ocropy.head()"
      ],
      "metadata": {
        "colab": {
          "base_uri": "https://localhost:8080/"
        },
        "id": "i8pCuWynxeAM",
        "outputId": "6d861e81-2cd0-42e4-8721-aa6704c0a4d6"
      },
      "execution_count": null,
      "outputs": [
        {
          "output_type": "execute_result",
          "data": {
            "text/plain": [
              "0    ыуты самому вниматеьному иучению, но оыи повсю,д\n",
              "1                                         разнл капта\n",
              "2     О адите траы. еомстримесьи двоствопле стереогрр\n",
              "3      дищоно вмодыт в друте учрбштые ьурсы - ташо ьа\n",
              "4     разобра и вынут, бремснне срмовые кротения шахт\n",
              "dtype: object"
            ]
          },
          "metadata": {},
          "execution_count": 15
        }
      ]
    },
    {
      "cell_type": "markdown",
      "source": [
        "# Сравнение качества распознавания"
      ],
      "metadata": {
        "id": "jHwbbGtM7EKr"
      }
    },
    {
      "cell_type": "code",
      "source": [
        "cer = load_metric(\"cer\")\n",
        "tes_cer = cer.compute(predictions=pred_pytes, references=test['text'])\n",
        "ocp_cer = cer.compute(predictions=pred_ocropy, references=test['text'])\n",
        "\n",
        "tes_wer = jiwer.wer(test['text'].tolist(), pred_pytes.tolist())\n",
        "ocp_wer = jiwer.wer(test['text'].tolist(), pred_ocropy.tolist())\n",
        "\n",
        "# Вывод графиков\n",
        "labels = ['tesseract', 'ocropus']\n",
        "metric = [{'CER':[tes_cer, ocp_cer]},{'WER':[tes_wer, ocp_wer]}]\n",
        "\n",
        "for mrx in metric:\n",
        "  fig, ax1 = plt.subplots(figsize=(6,7))\n",
        "  pos = np.arange(len(*mrx.values()))\n",
        "  rects = ax1.barh(pos, *mrx.values(),\n",
        "                         align='center',\n",
        "                         height=0.5, \n",
        "                         tick_label=labels)\n",
        "  ax1.set_title(str(*mrx))\n",
        "  for a,b in zip(pos, *mrx.values()):\n",
        "    plt.text(0.01, a, round(b,3), color='white')\n",
        "plt.show()  \n"
      ],
      "metadata": {
        "colab": {
          "base_uri": "https://localhost:8080/",
          "height": 871
        },
        "id": "KziJ4tL7BFAt",
        "outputId": "fd3797e4-909c-43b1-a468-45e3621dd9a3"
      },
      "execution_count": null,
      "outputs": [
        {
          "output_type": "display_data",
          "data": {
            "text/plain": [
              "<Figure size 432x504 with 1 Axes>"
            ],
            "image/png": "[encoded data removed]"
          },
          "metadata": {
            "needs_background": "light"
          }
        },
        {
          "output_type": "display_data",
          "data": {
            "text/plain": [
              "<Figure size 432x504 with 1 Axes>"
            ],
            "image/png": "[encoded data removed]"
          },
          "metadata": {
            "needs_background": "light"
          }
        }
      ]
    },
    {
      "cell_type": "markdown",
      "source": [
        "**Вывод:** количество ошибок при распознавании Tesseract намного ниже, чем в случае использования Ocropus, в основном по причине малого количества данных, использованных при обучении модели Ocropus."
      ],
      "metadata": {
        "id": "hbwB1mbiXON1"
      }
    }
  ]
}