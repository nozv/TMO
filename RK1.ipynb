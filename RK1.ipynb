{
  "nbformat": 4,
  "nbformat_minor": 0,
  "metadata": {
    "colab": {
      "name": "RK1.ipynb",
      "provenance": [],
      "collapsed_sections": [],
      "mount_file_id": "10Garyyzm2tzToGAgOD-1MaSeG0FBCiGV",
      "authorship_tag": "ABX9TyNE7xMzkF+R85ctrz8Dmg1z"
    },
    "kernelspec": {
      "name": "python3",
      "display_name": "Python 3"
    },
    "language_info": {
      "name": "python"
    }
  },
  "cells": [
    {
      "cell_type": "markdown",
      "source": [
        "Ноздрова В. С.\n",
        "\n",
        "Группа ИУ5-61Б\n",
        "\n",
        "Вариант 15\n",
        "\n",
        "\n"
      ],
      "metadata": {
        "id": "CFFBWRv_bFeP"
      }
    },
    {
      "cell_type": "markdown",
      "source": [
        "# Задача №2.\n",
        "\n",
        "Для заданного набора данных проведите обработку пропусков в данных для одного категориального и одного количественного признака. Какие способы обработки пропусков в данных для категориальных и количественных признаков Вы использовали? Какие признаки Вы будете использовать для дальнейшего построения моделей машинного обучения и почему?"
      ],
      "metadata": {
        "id": "hW1rG0mbbsHW"
      }
    },
    {
      "cell_type": "markdown",
      "source": [
        "Используемый набор данных: [SF Restaurant Scores](https://www.kaggle.com/datasets/san-francisco/sf-restaurant-scores-lives-standard)"
      ],
      "metadata": {
        "id": "Ee1Bm_sbb2rU"
      }
    },
    {
      "cell_type": "markdown",
      "source": [
        "\n",
        "\n",
        "---\n",
        "\n"
      ],
      "metadata": {
        "id": "pAqlsTOJdCqR"
      }
    },
    {
      "cell_type": "markdown",
      "source": [
        "## Загрузка данных"
      ],
      "metadata": {
        "id": "2ZKixfVloEeP"
      }
    },
    {
      "cell_type": "markdown",
      "source": [
        "Набор данных содержит следующие колонки:\n",
        "\n",
        "\n",
        "\n",
        "*   business_id - ID ресторана\n",
        "*   business_name - название ресторана\n",
        "*   business_address - адрес ресторана\n",
        "*   business_city - город, в котором зарегистрирован бизнес\n",
        "*   business_state - штат, в котором зарегистрирован бизнес\n",
        "*   business_postal_code - почтовый код\n",
        "*   business_latitude - широта\n",
        "*   business_longitude - долгота\n",
        "*   business_location - географические координаты\n",
        "*   business_phone_number - номер телефона\n",
        "*   inspection_id - id инспекции\n",
        "*   inspection_date - дата инспекции\n",
        "*   inspection_score - оценка ресторана по стобалльной шкале\n",
        "*   inspection_type - тип инспекции\n",
        "*   violation_id - id нарушения\n",
        "*   violation_description - описание нарушения\n",
        "*   risk_category - категория риска\n",
        "*   Neighborhoods (old) - номер района\n",
        "*   Police Districts -  номер полицейского участка\n",
        "*   Supervisor Districts - номер участка инспектирования\n",
        "*   Fire Prevention Districts - номер пожарного участка\n",
        "*   Zip Codes - почтовый индекс\n",
        "*   Analysis Neighborhoods - номер района анализа\n",
        "\n",
        "\n",
        "\n",
        "\n"
      ],
      "metadata": {
        "id": "OUt6IbtJdFB3"
      }
    },
    {
      "cell_type": "code",
      "source": [
        "# Импорт библиотек\n",
        "import numpy as np\n",
        "import pandas as pd\n",
        "import seaborn as sns\n",
        "import matplotlib.pyplot as plt\n",
        "%matplotlib inline \n",
        "sns.set(style=\"ticks\")\n",
        "\n",
        "# Загрузка датасета\n",
        "data = pd.read_csv('drive/MyDrive/Colab Notebooks/RK1.csv')"
      ],
      "metadata": {
        "id": "Z38ZA9v8m3JM"
      },
      "execution_count": 2,
      "outputs": []
    },
    {
      "cell_type": "code",
      "source": [
        "# Первые 5 строк датасета\n",
        "data.head()"
      ],
      "metadata": {
        "colab": {
          "base_uri": "https://localhost:8080/",
          "height": 421
        },
        "id": "kKweU5VsnPSp",
        "outputId": "1e672bb9-4dc9-4a1f-cb81-b5d54e3834eb"
      },
      "execution_count": 3,
      "outputs": [
        {
          "output_type": "execute_result",
          "data": {
            "text/plain": [
              "   business_id          business_name          business_address  \\\n",
              "0       101192           Cochinita #2  2 Marina Blvd Fort Mason   \n",
              "1        97975             BREADBELLY           1408 Clement St   \n",
              "2        92982  Great Gold Restaurant             3161 24th St.   \n",
              "3       101389                 HOMAGE         214 CALIFORNIA ST   \n",
              "4        85986           Pronto Pizza               798 Eddy St   \n",
              "\n",
              "   business_city business_state business_postal_code  business_latitude  \\\n",
              "0  San Francisco             CA                  NaN                NaN   \n",
              "1  San Francisco             CA                94118                NaN   \n",
              "2  San Francisco             CA                94110                NaN   \n",
              "3  San Francisco             CA                94111                NaN   \n",
              "4  San Francisco             CA                94109                NaN   \n",
              "\n",
              "   business_longitude business_location  business_phone_number  ...  \\\n",
              "0                 NaN               NaN           1.415043e+10  ...   \n",
              "1                 NaN               NaN           1.415724e+10  ...   \n",
              "2                 NaN               NaN                    NaN  ...   \n",
              "3                 NaN               NaN           1.415488e+10  ...   \n",
              "4                 NaN               NaN                    NaN  ...   \n",
              "\n",
              "         inspection_type           violation_id  \\\n",
              "0          New Ownership                    NaN   \n",
              "1  Routine - Unscheduled  97975_20190725_103124   \n",
              "2          New Ownership                    NaN   \n",
              "3       New Construction                    NaN   \n",
              "4          New Ownership  85986_20161011_103114   \n",
              "\n",
              "                               violation_description  risk_category  \\\n",
              "0                                                NaN            NaN   \n",
              "1  Inadequately cleaned or sanitized food contact...  Moderate Risk   \n",
              "2                                                NaN            NaN   \n",
              "3                                                NaN            NaN   \n",
              "4                       High risk vermin infestation      High Risk   \n",
              "\n",
              "  Neighborhoods (old) Police Districts Supervisor Districts  \\\n",
              "0                 NaN              NaN                  NaN   \n",
              "1                 NaN              NaN                  NaN   \n",
              "2                 NaN              NaN                  NaN   \n",
              "3                 NaN              NaN                  NaN   \n",
              "4                 NaN              NaN                  NaN   \n",
              "\n",
              "   Fire Prevention Districts  Zip Codes  Analysis Neighborhoods  \n",
              "0                        NaN        NaN                     NaN  \n",
              "1                        NaN        NaN                     NaN  \n",
              "2                        NaN        NaN                     NaN  \n",
              "3                        NaN        NaN                     NaN  \n",
              "4                        NaN        NaN                     NaN  \n",
              "\n",
              "[5 rows x 23 columns]"
            ],
            "text/html": [
              "\n",
              "  <div id=\"df-f9975a03-1529-43ca-962e-b35324113c1e\">\n",
              "    <div class=\"colab-df-container\">\n",
              "      <div>\n",
              "<style scoped>\n",
              "    .dataframe tbody tr th:only-of-type {\n",
              "        vertical-align: middle;\n",
              "    }\n",
              "\n",
              "    .dataframe tbody tr th {\n",
              "        vertical-align: top;\n",
              "    }\n",
              "\n",
              "    .dataframe thead th {\n",
              "        text-align: right;\n",
              "    }\n",
              "</style>\n",
              "<table border=\"1\" class=\"dataframe\">\n",
              "  <thead>\n",
              "    <tr style=\"text-align: right;\">\n",
              "      <th></th>\n",
              "      <th>business_id</th>\n",
              "      <th>business_name</th>\n",
              "      <th>business_address</th>\n",
              "      <th>business_city</th>\n",
              "      <th>business_state</th>\n",
              "      <th>business_postal_code</th>\n",
              "      <th>business_latitude</th>\n",
              "      <th>business_longitude</th>\n",
              "      <th>business_location</th>\n",
              "      <th>business_phone_number</th>\n",
              "      <th>...</th>\n",
              "      <th>inspection_type</th>\n",
              "      <th>violation_id</th>\n",
              "      <th>violation_description</th>\n",
              "      <th>risk_category</th>\n",
              "      <th>Neighborhoods (old)</th>\n",
              "      <th>Police Districts</th>\n",
              "      <th>Supervisor Districts</th>\n",
              "      <th>Fire Prevention Districts</th>\n",
              "      <th>Zip Codes</th>\n",
              "      <th>Analysis Neighborhoods</th>\n",
              "    </tr>\n",
              "  </thead>\n",
              "  <tbody>\n",
              "    <tr>\n",
              "      <th>0</th>\n",
              "      <td>101192</td>\n",
              "      <td>Cochinita #2</td>\n",
              "      <td>2 Marina Blvd Fort Mason</td>\n",
              "      <td>San Francisco</td>\n",
              "      <td>CA</td>\n",
              "      <td>NaN</td>\n",
              "      <td>NaN</td>\n",
              "      <td>NaN</td>\n",
              "      <td>NaN</td>\n",
              "      <td>1.415043e+10</td>\n",
              "      <td>...</td>\n",
              "      <td>New Ownership</td>\n",
              "      <td>NaN</td>\n",
              "      <td>NaN</td>\n",
              "      <td>NaN</td>\n",
              "      <td>NaN</td>\n",
              "      <td>NaN</td>\n",
              "      <td>NaN</td>\n",
              "      <td>NaN</td>\n",
              "      <td>NaN</td>\n",
              "      <td>NaN</td>\n",
              "    </tr>\n",
              "    <tr>\n",
              "      <th>1</th>\n",
              "      <td>97975</td>\n",
              "      <td>BREADBELLY</td>\n",
              "      <td>1408 Clement St</td>\n",
              "      <td>San Francisco</td>\n",
              "      <td>CA</td>\n",
              "      <td>94118</td>\n",
              "      <td>NaN</td>\n",
              "      <td>NaN</td>\n",
              "      <td>NaN</td>\n",
              "      <td>1.415724e+10</td>\n",
              "      <td>...</td>\n",
              "      <td>Routine - Unscheduled</td>\n",
              "      <td>97975_20190725_103124</td>\n",
              "      <td>Inadequately cleaned or sanitized food contact...</td>\n",
              "      <td>Moderate Risk</td>\n",
              "      <td>NaN</td>\n",
              "      <td>NaN</td>\n",
              "      <td>NaN</td>\n",
              "      <td>NaN</td>\n",
              "      <td>NaN</td>\n",
              "      <td>NaN</td>\n",
              "    </tr>\n",
              "    <tr>\n",
              "      <th>2</th>\n",
              "      <td>92982</td>\n",
              "      <td>Great Gold Restaurant</td>\n",
              "      <td>3161 24th St.</td>\n",
              "      <td>San Francisco</td>\n",
              "      <td>CA</td>\n",
              "      <td>94110</td>\n",
              "      <td>NaN</td>\n",
              "      <td>NaN</td>\n",
              "      <td>NaN</td>\n",
              "      <td>NaN</td>\n",
              "      <td>...</td>\n",
              "      <td>New Ownership</td>\n",
              "      <td>NaN</td>\n",
              "      <td>NaN</td>\n",
              "      <td>NaN</td>\n",
              "      <td>NaN</td>\n",
              "      <td>NaN</td>\n",
              "      <td>NaN</td>\n",
              "      <td>NaN</td>\n",
              "      <td>NaN</td>\n",
              "      <td>NaN</td>\n",
              "    </tr>\n",
              "    <tr>\n",
              "      <th>3</th>\n",
              "      <td>101389</td>\n",
              "      <td>HOMAGE</td>\n",
              "      <td>214 CALIFORNIA ST</td>\n",
              "      <td>San Francisco</td>\n",
              "      <td>CA</td>\n",
              "      <td>94111</td>\n",
              "      <td>NaN</td>\n",
              "      <td>NaN</td>\n",
              "      <td>NaN</td>\n",
              "      <td>1.415488e+10</td>\n",
              "      <td>...</td>\n",
              "      <td>New Construction</td>\n",
              "      <td>NaN</td>\n",
              "      <td>NaN</td>\n",
              "      <td>NaN</td>\n",
              "      <td>NaN</td>\n",
              "      <td>NaN</td>\n",
              "      <td>NaN</td>\n",
              "      <td>NaN</td>\n",
              "      <td>NaN</td>\n",
              "      <td>NaN</td>\n",
              "    </tr>\n",
              "    <tr>\n",
              "      <th>4</th>\n",
              "      <td>85986</td>\n",
              "      <td>Pronto Pizza</td>\n",
              "      <td>798 Eddy St</td>\n",
              "      <td>San Francisco</td>\n",
              "      <td>CA</td>\n",
              "      <td>94109</td>\n",
              "      <td>NaN</td>\n",
              "      <td>NaN</td>\n",
              "      <td>NaN</td>\n",
              "      <td>NaN</td>\n",
              "      <td>...</td>\n",
              "      <td>New Ownership</td>\n",
              "      <td>85986_20161011_103114</td>\n",
              "      <td>High risk vermin infestation</td>\n",
              "      <td>High Risk</td>\n",
              "      <td>NaN</td>\n",
              "      <td>NaN</td>\n",
              "      <td>NaN</td>\n",
              "      <td>NaN</td>\n",
              "      <td>NaN</td>\n",
              "      <td>NaN</td>\n",
              "    </tr>\n",
              "  </tbody>\n",
              "</table>\n",
              "<p>5 rows × 23 columns</p>\n",
              "</div>\n",
              "      <button class=\"colab-df-convert\" onclick=\"convertToInteractive('df-f9975a03-1529-43ca-962e-b35324113c1e')\"\n",
              "              title=\"Convert this dataframe to an interactive table.\"\n",
              "              style=\"display:none;\">\n",
              "        \n",
              "  <svg xmlns=\"http://www.w3.org/2000/svg\" height=\"24px\"viewBox=\"0 0 24 24\"\n",
              "       width=\"24px\">\n",
              "    <path d=\"M0 0h24v24H0V0z\" fill=\"none\"/>\n",
              "    <path d=\"M18.56 5.44l.94 2.06.94-2.06 2.06-.94-2.06-.94-.94-2.06-.94 2.06-2.06.94zm-11 1L8.5 8.5l.94-2.06 2.06-.94-2.06-.94L8.5 2.5l-.94 2.06-2.06.94zm10 10l.94 2.06.94-2.06 2.06-.94-2.06-.94-.94-2.06-.94 2.06-2.06.94z\"/><path d=\"M17.41 7.96l-1.37-1.37c-.4-.4-.92-.59-1.43-.59-.52 0-1.04.2-1.43.59L10.3 9.45l-7.72 7.72c-.78.78-.78 2.05 0 2.83L4 21.41c.39.39.9.59 1.41.59.51 0 1.02-.2 1.41-.59l7.78-7.78 2.81-2.81c.8-.78.8-2.07 0-2.86zM5.41 20L4 18.59l7.72-7.72 1.47 1.35L5.41 20z\"/>\n",
              "  </svg>\n",
              "      </button>\n",
              "      \n",
              "  <style>\n",
              "    .colab-df-container {\n",
              "      display:flex;\n",
              "      flex-wrap:wrap;\n",
              "      gap: 12px;\n",
              "    }\n",
              "\n",
              "    .colab-df-convert {\n",
              "      background-color: #E8F0FE;\n",
              "      border: none;\n",
              "      border-radius: 50%;\n",
              "      cursor: pointer;\n",
              "      display: none;\n",
              "      fill: #1967D2;\n",
              "      height: 32px;\n",
              "      padding: 0 0 0 0;\n",
              "      width: 32px;\n",
              "    }\n",
              "\n",
              "    .colab-df-convert:hover {\n",
              "      background-color: #E2EBFA;\n",
              "      box-shadow: 0px 1px 2px rgba(60, 64, 67, 0.3), 0px 1px 3px 1px rgba(60, 64, 67, 0.15);\n",
              "      fill: #174EA6;\n",
              "    }\n",
              "\n",
              "    [theme=dark] .colab-df-convert {\n",
              "      background-color: #3B4455;\n",
              "      fill: #D2E3FC;\n",
              "    }\n",
              "\n",
              "    [theme=dark] .colab-df-convert:hover {\n",
              "      background-color: #434B5C;\n",
              "      box-shadow: 0px 1px 3px 1px rgba(0, 0, 0, 0.15);\n",
              "      filter: drop-shadow(0px 1px 2px rgba(0, 0, 0, 0.3));\n",
              "      fill: #FFFFFF;\n",
              "    }\n",
              "  </style>\n",
              "\n",
              "      <script>\n",
              "        const buttonEl =\n",
              "          document.querySelector('#df-f9975a03-1529-43ca-962e-b35324113c1e button.colab-df-convert');\n",
              "        buttonEl.style.display =\n",
              "          google.colab.kernel.accessAllowed ? 'block' : 'none';\n",
              "\n",
              "        async function convertToInteractive(key) {\n",
              "          const element = document.querySelector('#df-f9975a03-1529-43ca-962e-b35324113c1e');\n",
              "          const dataTable =\n",
              "            await google.colab.kernel.invokeFunction('convertToInteractive',\n",
              "                                                     [key], {});\n",
              "          if (!dataTable) return;\n",
              "\n",
              "          const docLinkHtml = 'Like what you see? Visit the ' +\n",
              "            '<a target=\"_blank\" href=https://colab.research.google.com/notebooks/data_table.ipynb>data table notebook</a>'\n",
              "            + ' to learn more about interactive tables.';\n",
              "          element.innerHTML = '';\n",
              "          dataTable['output_type'] = 'display_data';\n",
              "          await google.colab.output.renderOutput(dataTable, element);\n",
              "          const docLink = document.createElement('div');\n",
              "          docLink.innerHTML = docLinkHtml;\n",
              "          element.appendChild(docLink);\n",
              "        }\n",
              "      </script>\n",
              "    </div>\n",
              "  </div>\n",
              "  "
            ]
          },
          "metadata": {},
          "execution_count": 3
        }
      ]
    },
    {
      "cell_type": "code",
      "source": [
        "# Размер датасета\n",
        "print('Строк: {}'.format(data.shape[0]))\n",
        "print('Колонок: {}'.format(data.shape[1]))"
      ],
      "metadata": {
        "colab": {
          "base_uri": "https://localhost:8080/",
          "height": 0
        },
        "id": "VjiuOhoznT2R",
        "outputId": "39dbe22f-2c3a-422c-989b-0a701c8bd003"
      },
      "execution_count": 8,
      "outputs": [
        {
          "output_type": "stream",
          "name": "stdout",
          "text": [
            "Строк: 53973\n",
            "Колонок: 23\n"
          ]
        }
      ]
    },
    {
      "cell_type": "code",
      "source": [
        "# Типы колонок\n",
        "data.dtypes"
      ],
      "metadata": {
        "colab": {
          "base_uri": "https://localhost:8080/",
          "height": 0
        },
        "id": "qdw0O6JpnVaL",
        "outputId": "d7e662ff-d227-4aa0-9925-5fdbd16ab403"
      },
      "execution_count": 5,
      "outputs": [
        {
          "output_type": "execute_result",
          "data": {
            "text/plain": [
              "business_id                    int64\n",
              "business_name                 object\n",
              "business_address              object\n",
              "business_city                 object\n",
              "business_state                object\n",
              "business_postal_code          object\n",
              "business_latitude            float64\n",
              "business_longitude           float64\n",
              "business_location             object\n",
              "business_phone_number        float64\n",
              "inspection_id                 object\n",
              "inspection_date               object\n",
              "inspection_score             float64\n",
              "inspection_type               object\n",
              "violation_id                  object\n",
              "violation_description         object\n",
              "risk_category                 object\n",
              "Neighborhoods (old)          float64\n",
              "Police Districts             float64\n",
              "Supervisor Districts         float64\n",
              "Fire Prevention Districts    float64\n",
              "Zip Codes                    float64\n",
              "Analysis Neighborhoods       float64\n",
              "dtype: object"
            ]
          },
          "metadata": {},
          "execution_count": 5
        }
      ]
    },
    {
      "cell_type": "markdown",
      "source": [
        "## Обработка пропусков"
      ],
      "metadata": {
        "id": "Otmct8BNoT8s"
      }
    },
    {
      "cell_type": "markdown",
      "source": [
        "Проверим, есть ли в наборе данных пропущенные значения:"
      ],
      "metadata": {
        "id": "IskTY3clo4lP"
      }
    },
    {
      "cell_type": "code",
      "source": [
        "# Количество пропущенных значений\n",
        "data.isnull().sum()"
      ],
      "metadata": {
        "colab": {
          "base_uri": "https://localhost:8080/",
          "height": 0
        },
        "id": "YWiH9CNOoABl",
        "outputId": "8c854a69-7396-49bf-97cc-e04ac287e675"
      },
      "execution_count": 9,
      "outputs": [
        {
          "output_type": "execute_result",
          "data": {
            "text/plain": [
              "business_id                      0\n",
              "business_name                    0\n",
              "business_address                 0\n",
              "business_city                    0\n",
              "business_state                   0\n",
              "business_postal_code          1018\n",
              "business_latitude            19556\n",
              "business_longitude           19556\n",
              "business_location            19556\n",
              "business_phone_number        36938\n",
              "inspection_id                    0\n",
              "inspection_date                  0\n",
              "inspection_score             13610\n",
              "inspection_type                  0\n",
              "violation_id                 12870\n",
              "violation_description        12870\n",
              "risk_category                12870\n",
              "Neighborhoods (old)          19594\n",
              "Police Districts             19594\n",
              "Supervisor Districts         19594\n",
              "Fire Prevention Districts    19646\n",
              "Zip Codes                    19576\n",
              "Analysis Neighborhoods       19594\n",
              "dtype: int64"
            ]
          },
          "metadata": {},
          "execution_count": 9
        }
      ]
    },
    {
      "cell_type": "code",
      "source": [
        "# Количество пропущенных значений в процентах\n",
        "round(data.isnull().sum()/data.shape[0]*100,2)"
      ],
      "metadata": {
        "colab": {
          "base_uri": "https://localhost:8080/",
          "height": 0
        },
        "id": "f_WmVCUfofwf",
        "outputId": "adcee004-6d98-4354-c728-8a1a1f9ef3e3"
      },
      "execution_count": 10,
      "outputs": [
        {
          "output_type": "execute_result",
          "data": {
            "text/plain": [
              "business_id                   0.00\n",
              "business_name                 0.00\n",
              "business_address              0.00\n",
              "business_city                 0.00\n",
              "business_state                0.00\n",
              "business_postal_code          1.89\n",
              "business_latitude            36.23\n",
              "business_longitude           36.23\n",
              "business_location            36.23\n",
              "business_phone_number        68.44\n",
              "inspection_id                 0.00\n",
              "inspection_date               0.00\n",
              "inspection_score             25.22\n",
              "inspection_type               0.00\n",
              "violation_id                 23.85\n",
              "violation_description        23.85\n",
              "risk_category                23.85\n",
              "Neighborhoods (old)          36.30\n",
              "Police Districts             36.30\n",
              "Supervisor Districts         36.30\n",
              "Fire Prevention Districts    36.40\n",
              "Zip Codes                    36.27\n",
              "Analysis Neighborhoods       36.30\n",
              "dtype: float64"
            ]
          },
          "metadata": {},
          "execution_count": 10
        }
      ]
    },
    {
      "cell_type": "markdown",
      "source": [
        "Выберем категориальные колонки с пропущенными значениями:"
      ],
      "metadata": {
        "id": "sGH4Be1qswPT"
      }
    },
    {
      "cell_type": "code",
      "source": [
        "cat_cols = []\n",
        "print('{:25}  {:10} {}'.format('Колонка', 'Тип', 'Количество пустых значений'))\n",
        "# Цикл по колонкам датасета\n",
        "for col in data.columns:\n",
        "    # Количество пустых значений \n",
        "    temp_null_count = data[data[col].isnull()].shape[0]\n",
        "    dt = str(data[col].dtype)\n",
        "    if temp_null_count>0 and (dt=='object'):\n",
        "        cat_cols.append(col)\n",
        "        temp_perc = round((temp_null_count / data.shape[0]) * 100.0, 2)\n",
        "        print('{:25}  {:10} {} ({}%)'.format(col, dt, temp_null_count, temp_perc))"
      ],
      "metadata": {
        "colab": {
          "base_uri": "https://localhost:8080/",
          "height": 0
        },
        "id": "HJltQa3ksx72",
        "outputId": "691aac83-0058-4853-efd4-4f15627bc163"
      },
      "execution_count": 43,
      "outputs": [
        {
          "output_type": "stream",
          "name": "stdout",
          "text": [
            "Колонка                    Тип        Количество пустых значений\n",
            "business_postal_code       object     1018 (1.89%)\n",
            "business_location          object     19556 (36.23%)\n",
            "violation_id               object     12870 (23.85%)\n",
            "violation_description      object     12870 (23.85%)\n",
            "risk_category              object     12870 (23.85%)\n"
          ]
        }
      ]
    },
    {
      "cell_type": "markdown",
      "source": [
        "Для заполнения пропусков выберем колонку 'risk_category':"
      ],
      "metadata": {
        "id": "HwBMdfastZI7"
      }
    },
    {
      "cell_type": "code",
      "source": [
        "data['risk_category'].unique()"
      ],
      "metadata": {
        "colab": {
          "base_uri": "https://localhost:8080/",
          "height": 0
        },
        "id": "jwefCaDdtQs_",
        "outputId": "9fe601fe-d79d-4476-bd7a-7f6851c53e99"
      },
      "execution_count": 44,
      "outputs": [
        {
          "output_type": "execute_result",
          "data": {
            "text/plain": [
              "array([nan, 'Moderate Risk', 'High Risk', 'Low Risk'], dtype=object)"
            ]
          },
          "metadata": {},
          "execution_count": 44
        }
      ]
    },
    {
      "cell_type": "markdown",
      "source": [
        "Так как для строк, в которых отсутствуют значения в колонке 'risk_category', нет информации о нарушениях (значения в колонках 'violation_id' и 'violation_description' так же отсутствуют), то заполним пропуски константой 'No Risk':"
      ],
      "metadata": {
        "id": "hvhreT2ctjcu"
      }
    },
    {
      "cell_type": "code",
      "source": [
        "# Импьютация константой\n",
        "data['risk_category'] = SimpleImputer(missing_values=np.nan, strategy='constant', fill_value='No Risk').fit_transform(data[['risk_category']])\n",
        "data['risk_category'].unique()"
      ],
      "metadata": {
        "colab": {
          "base_uri": "https://localhost:8080/",
          "height": 0
        },
        "id": "ltKgbQB_tjum",
        "outputId": "e016d407-463d-4672-9c1d-4955b6c257dc"
      },
      "execution_count": 46,
      "outputs": [
        {
          "output_type": "execute_result",
          "data": {
            "text/plain": [
              "array(['No Risk', 'Moderate Risk', 'High Risk', 'Low Risk'], dtype=object)"
            ]
          },
          "metadata": {},
          "execution_count": 46
        }
      ]
    },
    {
      "cell_type": "markdown",
      "source": [
        "Выберем числовые колонки с пропущенными значениями:"
      ],
      "metadata": {
        "id": "zqMXDU6lm4XP"
      }
    },
    {
      "cell_type": "code",
      "source": [
        "num_cols = []\n",
        "print('{:25}  {:10} {}'.format('Колонка', 'Тип', 'Количество пустых значений'))\n",
        "# Цикл по колонкам датасета\n",
        "for col in data.columns:\n",
        "    # Количество пустых значений \n",
        "    temp_null_count = data[data[col].isnull()].shape[0]\n",
        "    dt = str(data[col].dtype)\n",
        "    if temp_null_count>0 and (dt=='float64' or dt=='int64'):\n",
        "        num_cols.append(col)\n",
        "        temp_perc = round((temp_null_count / data.shape[0]) * 100.0, 2)\n",
        "        print('{:25}  {:10} {} ({}%)'.format(col, dt, temp_null_count, temp_perc))"
      ],
      "metadata": {
        "colab": {
          "base_uri": "https://localhost:8080/",
          "height": 0
        },
        "id": "e9NSn7bpoqvu",
        "outputId": "5f289718-99e8-431b-d819-34f75f903235"
      },
      "execution_count": 14,
      "outputs": [
        {
          "output_type": "stream",
          "name": "stdout",
          "text": [
            "Колонка                    Тип        Количество пустых значений\n",
            "business_latitude          float64    19556 (36.23%)\n",
            "business_longitude         float64    19556 (36.23%)\n",
            "business_phone_number      float64    36938 (68.44%)\n",
            "inspection_score           float64    13610 (25.22%)\n",
            "Neighborhoods (old)        float64    19594 (36.3%)\n",
            "Police Districts           float64    19594 (36.3%)\n",
            "Supervisor Districts       float64    19594 (36.3%)\n",
            "Fire Prevention Districts  float64    19646 (36.4%)\n",
            "Zip Codes                  float64    19576 (36.27%)\n",
            "Analysis Neighborhoods     float64    19594 (36.3%)\n"
          ]
        }
      ]
    },
    {
      "cell_type": "markdown",
      "source": [
        "Для заполнения пропусков выберем колонку inspection_score:"
      ],
      "metadata": {
        "id": "OAymyHQRo-ur"
      }
    },
    {
      "cell_type": "code",
      "source": [
        "plt.hist(data['inspection_score'], 30)\n",
        "plt.xlabel('inspection_score')\n",
        "plt.show()"
      ],
      "metadata": {
        "colab": {
          "base_uri": "https://localhost:8080/",
          "height": 288
        },
        "id": "TbWSTVLWpURw",
        "outputId": "3915a960-1411-4c22-d999-00db0a182191"
      },
      "execution_count": 34,
      "outputs": [
        {
          "output_type": "display_data",
          "data": {
            "text/plain": [
              "<Figure size 432x288 with 1 Axes>"
            ],
            "image/png": "[encoded data removed]"
          },
          "metadata": {}
        }
      ]
    },
    {
      "cell_type": "markdown",
      "source": [
        "Заполним отсутствующие значения с использованием импьютации:"
      ],
      "metadata": {
        "id": "jgIDwlvmpnyM"
      }
    },
    {
      "cell_type": "code",
      "source": [
        "from sklearn.impute import SimpleImputer\n",
        "from sklearn.impute import MissingIndicator\n",
        "\n",
        "# Функция, которая позволяет задавать колонку и вид импьютации\n",
        "def num_impute_col(dataset, column, strategy_param):\n",
        "    temp_data = dataset[[column]]\n",
        "    \n",
        "    indicator = MissingIndicator()\n",
        "    mask_missing_values_only = indicator.fit_transform(temp_data)\n",
        "    \n",
        "    imp_num = SimpleImputer(strategy=strategy_param)\n",
        "    data_num_imp = imp_num.fit_transform(temp_data)\n",
        "    \n",
        "    filled_data = data_num_imp[mask_missing_values_only]\n",
        "    filled_data_imp = data_num_imp\n",
        "    \n",
        "    print(column, strategy_param, filled_data.size, filled_data[0], filled_data[filled_data.size-1])\n",
        "    return filled_data_imp"
      ],
      "metadata": {
        "id": "pz3aZPK5poZW"
      },
      "execution_count": 18,
      "outputs": []
    },
    {
      "cell_type": "markdown",
      "source": [
        "Как видно из графика, распределение одномодальное, поэтому выберем стратегию 'most_frequent':"
      ],
      "metadata": {
        "id": "MX0Iaaa6r5SW"
      }
    },
    {
      "cell_type": "code",
      "source": [
        "data['inspection_score'] = num_impute_col(data, 'inspection_score', 'most_frequent')"
      ],
      "metadata": {
        "colab": {
          "base_uri": "https://localhost:8080/",
          "height": 0
        },
        "id": "JauzRLowpydc",
        "outputId": "c69cc3f4-d684-4729-dfbe-c236e381a600"
      },
      "execution_count": 39,
      "outputs": [
        {
          "output_type": "stream",
          "name": "stdout",
          "text": [
            "inspection_score most_frequent 13610 90.0 90.0\n"
          ]
        }
      ]
    },
    {
      "cell_type": "markdown",
      "source": [
        "Проверим заполнение:"
      ],
      "metadata": {
        "id": "7M1T6b4isQ_Y"
      }
    },
    {
      "cell_type": "code",
      "source": [
        "data['inspection_score'].isnull().sum()"
      ],
      "metadata": {
        "colab": {
          "base_uri": "https://localhost:8080/",
          "height": 0
        },
        "id": "dloBA0n0sV0x",
        "outputId": "a1ec223b-0172-40d5-81dd-b63f62bcdc35"
      },
      "execution_count": 41,
      "outputs": [
        {
          "output_type": "execute_result",
          "data": {
            "text/plain": [
              "0"
            ]
          },
          "metadata": {},
          "execution_count": 41
        }
      ]
    },
    {
      "cell_type": "markdown",
      "source": [
        "Таким образом, для обработки пропусков в данных для категориального признака было использовано заполнение константой, а для количественного признака - заполнение наиболее частым значением (модой)."
      ],
      "metadata": {
        "id": "gsQiD_5gss-a"
      }
    },
    {
      "cell_type": "markdown",
      "source": [
        "## Дополнительное задание"
      ],
      "metadata": {
        "id": "GZ0t-4BLwEWe"
      }
    },
    {
      "cell_type": "markdown",
      "source": [
        "Для пары произвольных колонок данных построить график \"Диаграмма рассеяния\":"
      ],
      "metadata": {
        "id": "8zyZEPa9xx89"
      }
    },
    {
      "cell_type": "code",
      "source": [
        "fig, ax = plt.subplots(figsize=(10,10)) \n",
        "sns.scatterplot(ax=ax, x='risk_category', y='inspection_score', data=data, hue='risk_category')"
      ],
      "metadata": {
        "colab": {
          "base_uri": "https://localhost:8080/",
          "height": 628
        },
        "id": "C3e0j8Bxx3t3",
        "outputId": "aed505d5-228c-47ce-bc62-0a5700f8d01f"
      },
      "execution_count": 56,
      "outputs": [
        {
          "output_type": "execute_result",
          "data": {
            "text/plain": [
              "<matplotlib.axes._subplots.AxesSubplot at 0x7ff9fb09c290>"
            ]
          },
          "metadata": {},
          "execution_count": 56
        },
        {
          "output_type": "display_data",
          "data": {
            "text/plain": [
              "<Figure size 720x720 with 1 Axes>"
            ],
            "image/png": "[encoded data removed]"
          },
          "metadata": {}
        }
      ]
    }
  ]
}